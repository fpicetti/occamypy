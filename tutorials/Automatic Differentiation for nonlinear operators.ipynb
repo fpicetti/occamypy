{
 "cells": [
  {
   "cell_type": "markdown",
   "id": "bdad36b5",
   "metadata": {},
   "source": [
    "# Automatic Differentiation for nonlinear operators\n",
    "\n",
    "@Author: Francesco Picetti - picettifrancesco@gmail.com\n",
    "\n",
    "In this notebook, we build a new kind of operator that leverages a new entry in the PyTorch ecosystem, [functorch](https://pytorch.org/functorch/stable/). Basically, it allows for the computation of the Jacobian-vector product given a function defined with PyTorch primitives."
   ]
  },
  {
   "cell_type": "code",
   "execution_count": 1,
   "id": "cee6a27f",
   "metadata": {},
   "outputs": [
    {
     "name": "stdout",
     "output_type": "stream",
     "text": [
      "WARNING! DATAPATH not found. The folder /tmp will be used to write binary files\n"
     ]
    },
    {
     "name": "stderr",
     "output_type": "stream",
     "text": [
      "/nas/home/fpicetti/miniconda3/envs/occd/lib/python3.10/site-packages/dask_jobqueue/core.py:20: FutureWarning: tmpfile is deprecated and will be removed in a future release. Please use dask.utils.tmpfile instead.\n",
      "  from distributed.utils import tmpfile\n"
     ]
    }
   ],
   "source": [
    "import torch\n",
    "import occamypy as o\n",
    "\n",
    "o.backend.set_seed_everywhere()\n",
    "\n",
    "try:\n",
    "    from functorch import jvp\n",
    "except ModuleNotFoundError:\n",
    "    raise ModuleNotFoundError(\"This submodule requires functorch to be installed. Do it with:\\n\\tpip install functorch\")"
   ]
  },
  {
   "cell_type": "code",
   "execution_count": 2,
   "id": "652309c0",
   "metadata": {},
   "outputs": [],
   "source": [
    "class OperatorAD(o.Operator):\n",
    "\n",
    "    def __init__(self, domain: o.VectorTorch, range: o.VectorTorch, fwd_fn, background: o.VectorTorch = None, name: str = None):\n",
    "        \"\"\"\n",
    "        Generic operator whose forward is defined, and adjoint is computed with automatic differentiation\n",
    "        \n",
    "        Args:\n",
    "            domain: operator domain vector\n",
    "            range: operator range vector\n",
    "            fwd_fn: torch-compatible forward function\n",
    "            background: vector in which the Jacobian will be computed\n",
    "            name: function name for print purpose\n",
    "        \"\"\"\n",
    "        self.fwd_fn = fwd_fn\n",
    "        \n",
    "        # store the vector to be multiplied with the Jacobian\n",
    "        self.domain_tensor = torch.ones_like(domain[:])\n",
    "        # store the domain vector in which the function will be linearized\n",
    "        self.background = background if background is not None else domain\n",
    "\n",
    "        super(OperatorAD, self).__init__(domain=domain, range=range)\n",
    "        self.name = \"OperatorAD\" if name is None else name\n",
    "        \n",
    "    def forward(self, add, model, data):\n",
    "        self.checkDomainRange(model, data)\n",
    "        \n",
    "        if not add:\n",
    "            data.zero()\n",
    "        data[:] += self.fwd_fn(model[:])\n",
    "        return\n",
    "    \n",
    "    def adjoint(self, add, model, data):\n",
    "        self.checkDomainRange(model, data)\n",
    "\n",
    "        grad = jvp(self.fwd_fn, (self.background[:],), (self.domain_tensor,))[1]\n",
    "        \n",
    "        if not add:\n",
    "            model.zero()\n",
    "        model[:] += grad * data[:]\n",
    "        return\n",
    "    \n",
    "    def set_background(self, in_content: o.VectorTorch):\n",
    "        \"\"\"\n",
    "        Set the background vector in which the Jacobian will be computed\n",
    "\n",
    "        Args:\n",
    "            in_content: background vector\n",
    "        \"\"\"\n",
    "        self.background.copy(in_content)\n"
   ]
  },
  {
   "cell_type": "markdown",
   "id": "00ff646a",
   "metadata": {},
   "source": [
    "## Case 1: linear function $f(x)=x$"
   ]
  },
  {
   "cell_type": "code",
   "execution_count": 3,
   "id": "41c46527",
   "metadata": {},
   "outputs": [
    {
     "name": "stdout",
     "output_type": "stream",
     "text": [
      "x = tensor([1., 2., 3.])\n"
     ]
    }
   ],
   "source": [
    "x = o.VectorTorch(torch.tensor([1., 2., 3.]))\n",
    "print(\"x =\", x)"
   ]
  },
  {
   "cell_type": "markdown",
   "id": "09574a9d",
   "metadata": {},
   "source": [
    "Forward function"
   ]
  },
  {
   "cell_type": "code",
   "execution_count": 4,
   "id": "8085472d",
   "metadata": {},
   "outputs": [],
   "source": [
    "f = lambda x: x"
   ]
  },
  {
   "cell_type": "markdown",
   "id": "2a8f2c71",
   "metadata": {},
   "source": [
    "Analytical gradient"
   ]
  },
  {
   "cell_type": "code",
   "execution_count": 5,
   "id": "e2675b76",
   "metadata": {},
   "outputs": [],
   "source": [
    "g = lambda x: 1."
   ]
  },
  {
   "cell_type": "markdown",
   "id": "c5659c61",
   "metadata": {},
   "source": [
    "Instantiate the operator"
   ]
  },
  {
   "cell_type": "code",
   "execution_count": 6,
   "id": "ed83d738",
   "metadata": {},
   "outputs": [
    {
     "name": "stdout",
     "output_type": "stream",
     "text": [
      "A is x\n"
     ]
    }
   ],
   "source": [
    "A = OperatorAD(domain=x, range=x, fwd_fn=f, name=\"x\")\n",
    "print(\"A is %s\" % A.name)"
   ]
  },
  {
   "cell_type": "markdown",
   "id": "82caf0fc",
   "metadata": {},
   "source": [
    "Forward computation: $\\mathbf{y}=f(\\mathbf{x}) = \\mathbf{A} \\mathbf{x}$"
   ]
  },
  {
   "cell_type": "code",
   "execution_count": 7,
   "id": "21dd5e53",
   "metadata": {},
   "outputs": [
    {
     "name": "stdout",
     "output_type": "stream",
     "text": [
      "y = f(x) = tensor([1., 2., 3.])\n"
     ]
    }
   ],
   "source": [
    "y = A * x\n",
    "assert torch.allclose(y[:], f(x[:]))\n",
    "print(\"y = f(x) =\", y)"
   ]
  },
  {
   "cell_type": "markdown",
   "id": "10066597",
   "metadata": {},
   "source": [
    "Adjoint computation: $\\mathbf{z} = \\frac{\\partial f}{\\partial \\mathbf{x}}\\Bigr|_{\\mathbf{x}=\\mathbf{x}_0}  \\mathbf{y}$\n",
    "\n",
    "1. set the linearization domain where the gradient is computed (default is the domain vector passed to the `__init__`)"
   ]
  },
  {
   "cell_type": "code",
   "execution_count": 8,
   "id": "9e2ccb59",
   "metadata": {},
   "outputs": [
    {
     "name": "stdout",
     "output_type": "stream",
     "text": [
      "The gradient ∂f/∂x will be computed at x0 = tensor([1., 2., 3.])\n"
     ]
    }
   ],
   "source": [
    "A.set_background(x)\n",
    "print(\"The gradient ∂f/∂x will be computed at x0 =\", A.background)"
   ]
  },
  {
   "cell_type": "markdown",
   "id": "f1f43e1e",
   "metadata": {},
   "source": [
    "2. compute the gradient and multiply it with data"
   ]
  },
  {
   "cell_type": "code",
   "execution_count": 9,
   "id": "9efb9a90",
   "metadata": {},
   "outputs": [
    {
     "name": "stdout",
     "output_type": "stream",
     "text": [
      "z = ∂f/∂x0 * y = tensor([1., 2., 3.])\n"
     ]
    }
   ],
   "source": [
    "z = A.H * y\n",
    "assert torch.allclose(z[:], g(A.background[:]) * y[:])\n",
    "print(\"z = ∂f/∂x0 * y =\", z)"
   ]
  },
  {
   "cell_type": "markdown",
   "id": "b98d35b6",
   "metadata": {},
   "source": [
    "Let's use another linearization point $\\mathbf{x}_0$"
   ]
  },
  {
   "cell_type": "code",
   "execution_count": 10,
   "id": "136b8ba1",
   "metadata": {},
   "outputs": [
    {
     "name": "stdout",
     "output_type": "stream",
     "text": [
      "The gradient ∂f/∂x0 will be computed on x0 = tensor([-0.0075,  0.5364, -0.8230])\n"
     ]
    }
   ],
   "source": [
    "x0 = x.clone().rand()\n",
    "A.set_background(x0)\n",
    "print(\"The gradient ∂f/∂x0 will be computed on x0 =\", A.background)"
   ]
  },
  {
   "cell_type": "code",
   "execution_count": 11,
   "id": "e6fde0d2",
   "metadata": {},
   "outputs": [
    {
     "name": "stdout",
     "output_type": "stream",
     "text": [
      "z = ∂f/∂x0 * y = tensor([1., 2., 3.])\n"
     ]
    }
   ],
   "source": [
    "z = A.H * y\n",
    "assert torch.allclose(z[:], g(A.background[:]) * y[:])\n",
    "print(\"z = ∂f/∂x0 * y =\", z)"
   ]
  },
  {
   "cell_type": "markdown",
   "id": "932b43f1",
   "metadata": {},
   "source": [
    "As $f(x)=x$ is linear, we can compute the dot product test for operator $\\mathbf{A}$"
   ]
  },
  {
   "cell_type": "code",
   "execution_count": 12,
   "id": "3c636d69",
   "metadata": {},
   "outputs": [
    {
     "name": "stdout",
     "output_type": "stream",
     "text": [
      "Dot-product tests of forward and adjoint operators\n",
      "--------------------------------------------------\n",
      "Applying forward operator add=False\n",
      " Runs in: 0.00019025802612304688 seconds\n",
      "Applying adjoint operator add=False\n",
      " Runs in: 0.0007958412170410156 seconds\n",
      "Dot products add=False: domain=3.146009e-01 range=3.146009e-01 \n",
      "Absolute error: 0.000000e+00\n",
      "Relative error: 0.000000e+00 \n",
      "\n",
      "Applying forward operator add=True\n",
      " Runs in: 3.981590270996094e-05 seconds\n",
      "Applying adjoint operator add=True\n",
      " Runs in: 0.0004761219024658203 seconds\n",
      "Dot products add=True: domain=6.292018e-01 range=6.292018e-01 \n",
      "Absolute error: 0.000000e+00\n",
      "Relative error: 0.000000e+00 \n",
      "\n",
      "-------------------------------------------------\n"
     ]
    }
   ],
   "source": [
    "A.dotTest(True)"
   ]
  },
  {
   "cell_type": "markdown",
   "id": "e982386a",
   "metadata": {},
   "source": [
    "## Case 2: nonlinear function $f(x) = x \\sin(x)$"
   ]
  },
  {
   "cell_type": "code",
   "execution_count": 13,
   "id": "4c111188",
   "metadata": {},
   "outputs": [
    {
     "name": "stdout",
     "output_type": "stream",
     "text": [
      "x = tensor([1., 2., 3.])\n"
     ]
    }
   ],
   "source": [
    "x = o.VectorTorch(torch.tensor([1., 2., 3.]))\n",
    "print(\"x =\", x)"
   ]
  },
  {
   "cell_type": "markdown",
   "id": "04487c43",
   "metadata": {},
   "source": [
    "Forward function"
   ]
  },
  {
   "cell_type": "code",
   "execution_count": 14,
   "id": "90e688cd",
   "metadata": {},
   "outputs": [],
   "source": [
    "f = lambda x: x * torch.sin(x)"
   ]
  },
  {
   "cell_type": "markdown",
   "id": "a430a09b",
   "metadata": {},
   "source": [
    "Analytical gradient"
   ]
  },
  {
   "cell_type": "code",
   "execution_count": 15,
   "id": "6f9dee61",
   "metadata": {},
   "outputs": [],
   "source": [
    "g = lambda x: x * torch.cos(x) + torch.sin(x)"
   ]
  },
  {
   "cell_type": "markdown",
   "id": "d4906c61",
   "metadata": {},
   "source": [
    "Instantiate the operator"
   ]
  },
  {
   "cell_type": "code",
   "execution_count": 16,
   "id": "214b3098",
   "metadata": {},
   "outputs": [
    {
     "name": "stdout",
     "output_type": "stream",
     "text": [
      "A is x sin(x)\n"
     ]
    }
   ],
   "source": [
    "A = OperatorAD(domain=x, range=x, fwd_fn=f, name=\"x sin(x)\")\n",
    "print(\"A is %s\" % A.name)"
   ]
  },
  {
   "cell_type": "markdown",
   "id": "8fb36e70",
   "metadata": {},
   "source": [
    "Forward computation: $\\mathbf{y}=f(\\mathbf{x}) = \\mathbf{A} \\cdot \\mathbf{x}$"
   ]
  },
  {
   "cell_type": "code",
   "execution_count": 17,
   "id": "4df2f8a9",
   "metadata": {},
   "outputs": [
    {
     "name": "stdout",
     "output_type": "stream",
     "text": [
      "y = f(x) = tensor([0.8415, 1.8186, 0.4234])\n"
     ]
    }
   ],
   "source": [
    " y = A * x\n",
    "assert torch.allclose(y[:], f(x[:]))\n",
    "print(\"y = f(x) =\", y)"
   ]
  },
  {
   "cell_type": "markdown",
   "id": "a31cc90c",
   "metadata": {},
   "source": [
    "Adjoint computation: $\\mathbf{z} = \\frac{\\partial f}{\\partial \\mathbf{x}}\\Bigr|_{\\mathbf{x}=\\mathbf{x}_0} \\cdot \\mathbf{y}$\n",
    "\n"
   ]
  },
  {
   "cell_type": "code",
   "execution_count": 18,
   "id": "a0522d53",
   "metadata": {},
   "outputs": [
    {
     "name": "stdout",
     "output_type": "stream",
     "text": [
      "The gradient ∂f/∂x0 will be computed on x0 = tensor([1., 2., 3.])\n"
     ]
    }
   ],
   "source": [
    "print(\"The gradient ∂f/∂x0 will be computed on x0 =\", A.background)"
   ]
  },
  {
   "cell_type": "code",
   "execution_count": 19,
   "id": "6e9cc424",
   "metadata": {},
   "outputs": [
    {
     "name": "stdout",
     "output_type": "stream",
     "text": [
      "z = ∂f1/∂x0 * y = tensor([ 1.1627,  0.1400, -1.1976])\n"
     ]
    }
   ],
   "source": [
    "z = A.H * y\n",
    "assert torch.allclose(z[:], g(A.background[:]) * y[:])\n",
    "print(\"z = ∂f1/∂x0 * y =\", z)"
   ]
  },
  {
   "cell_type": "markdown",
   "id": "88f95798",
   "metadata": {},
   "source": [
    "Let's use another linearization point $\\mathbf{x}_0$"
   ]
  },
  {
   "cell_type": "code",
   "execution_count": 20,
   "id": "6fc284ac",
   "metadata": {},
   "outputs": [
    {
     "name": "stdout",
     "output_type": "stream",
     "text": [
      "The gradient ∂f/∂x0 will be computed on x0 = tensor([ 0.6472,  0.2490, -0.3354])\n"
     ]
    }
   ],
   "source": [
    "x0 = x.clone().randn()\n",
    "A.set_background(x0)\n",
    "print(\"The gradient ∂f/∂x0 will be computed on x0 =\", A.background)"
   ]
  },
  {
   "cell_type": "code",
   "execution_count": 21,
   "id": "a1f0fd31",
   "metadata": {},
   "outputs": [
    {
     "name": "stdout",
     "output_type": "stream",
     "text": [
      "z = ∂f/∂x0 * y = tensor([ 0.9419,  0.8870, -0.2734])\n"
     ]
    }
   ],
   "source": [
    "z = A.H * y\n",
    "assert torch.allclose(z[:], g(A.background[:]) * y[:])\n",
    "print(\"z = ∂f/∂x0 * y =\", z)"
   ]
  },
  {
   "cell_type": "markdown",
   "id": "d4ffb659",
   "metadata": {},
   "source": [
    "Finally, we can wrap $\\mathbf{A}$ into a `NonlinearOperator` and compute the linearization test"
   ]
  },
  {
   "cell_type": "code",
   "execution_count": 22,
   "id": "18061880",
   "metadata": {},
   "outputs": [
    {
     "data": {
      "image/png": "[encoded data removed]",
      "text/plain": [
       "<Figure size 432x216 with 1 Axes>"
      ]
     },
     "metadata": {
      "needs_background": "light"
     },
     "output_type": "display_data"
    }
   ],
   "source": [
    "B = o.NonlinearOperator(A)\n",
    "_, _ = B.linTest(x, plot=True)"
   ]
  },
  {
   "cell_type": "code",
   "execution_count": null,
   "id": "51a6876f",
   "metadata": {},
   "outputs": [],
   "source": []
  }
 ],
 "metadata": {
  "kernelspec": {
   "display_name": "Python 3 (ipykernel)",
   "language": "python",
   "name": "python3"
  },
  "language_info": {
   "codemirror_mode": {
    "name": "ipython",
    "version": 3
   },
   "file_extension": ".py",
   "mimetype": "text/x-python",
   "name": "python",
   "nbconvert_exporter": "python",
   "pygments_lexer": "ipython3",
   "version": "3.10.4"
  }
 },
 "nbformat": 4,
 "nbformat_minor": 5
}
