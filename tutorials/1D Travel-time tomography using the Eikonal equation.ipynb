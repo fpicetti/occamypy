{
 "cells": [
  {
   "cell_type": "markdown",
   "id": "emerging-diagram",
   "metadata": {},
   "source": [
    "# Traveltime tomography using the Eikonal equation\n",
    "\n",
    "@Author: Ettore Biondi - ebiondi@caltech.edu"
   ]
  },
  {
   "cell_type": "markdown",
   "id": "level-cargo",
   "metadata": {},
   "source": [
    "In this notebook, we provide an example of how to solve a traveltime tomography problem using the solution to the Eikonal equation. This equation can be written as follows:\n",
    "\\begin{eqnarray}\n",
    "\\nabla \\tau(\\mathbf{x}) \\cdot \\nabla \\tau(\\mathbf{x})= \\|\\nabla \\tau(\\mathbf{x})\\|^2 = \\frac{1}{v^2(\\mathbf{x})},\n",
    "\\end{eqnarray}\n",
    "where $v$ is the wave speed, $\\tau$ is the traveltime, and $\\mathbf{x}$ denotes the spatial variables (i.e., $x$, $y$, and $z$). To solve the previous partial-differential equation (PDE), we employ the fast-marching method described by [Sethian (1996)](https://www.pnas.org/content/pnas/93/4/1591.full.pdf). The solution of the Eikonal equation depends non-linearly on the velocity parameter $v$. Hence, we express its discrete solution as follows:\n",
    "\\begin{eqnarray}\n",
    "\\pmb{\\tau} = \\mathbf{f}(\\mathbf{v}).\n",
    "\\end{eqnarray}\n",
    "The Jacobian $\\mathbf{F}$ of the non-linear operator $\\mathbf{f}$ obeys the following equation:\n",
    "\\begin{eqnarray}\n",
    "2[\\nabla \\tau(\\mathbf{x})] \\cdot [\\nabla \\delta\\tau(\\mathbf{x})] = \\delta v(\\mathbf{x}),\n",
    "\\end{eqnarray}\n",
    "where $\\delta\\tau$ represents the traveltime perturbation due to the velocity perturbation $\\delta v(\\mathbf{x})$. The previous relation when discretized represents a linear system of equations that can be solved by forward substitution [Li et al. (2013)](https://pi.math.cornell.edu/~vlad/papers/DSR_Geophysics_2013.pdf). "
   ]
  },
  {
   "cell_type": "code",
   "execution_count": 1,
   "id": "formed-greene",
   "metadata": {},
   "outputs": [
    {
     "name": "stdout",
     "output_type": "stream",
     "text": [
      "WARNING! DATAPATH not found. The folder /tmp will be used to write binary files\n"
     ]
    },
    {
     "name": "stderr",
     "output_type": "stream",
     "text": [
      "/nas/home/fpicetti/miniconda3/envs/occd/lib/python3.10/site-packages/dask_jobqueue/core.py:20: FutureWarning: tmpfile is deprecated and will be removed in a future release. Please use dask.utils.tmpfile instead.\n",
      "  from distributed.utils import tmpfile\n"
     ]
    }
   ],
   "source": [
    "import numpy as np\n",
    "import occamypy as o\n",
    "\n",
    "# Plotting\n",
    "from matplotlib import rcParams\n",
    "from mpl_toolkits.axes_grid1 import make_axes_locatable\n",
    "import matplotlib.pyplot as plt\n",
    "rcParams.update({\n",
    "    'image.cmap'     : 'jet',\n",
    "    'image.aspect'   : 'auto',\n",
    "    'image.interpolation': None,\n",
    "    'axes.grid'      : True,\n",
    "    'figure.figsize' : (10, 6),\n",
    "    'savefig.dpi'    : 300,\n",
    "    'axes.labelsize' : 14,\n",
    "    'axes.titlesize' : 16,\n",
    "    'font.size'      : 14,\n",
    "    'legend.fontsize': 14,\n",
    "    'xtick.labelsize': 14,\n",
    "    'ytick.labelsize': 14,\n",
    "    'text.usetex'    : True,\n",
    "    'font.family'    : 'serif',\n",
    "    'font.serif'     : 'Latin Modern Roman',\n",
    "})"
   ]
  },
  {
   "cell_type": "markdown",
   "id": "legitimate-association",
   "metadata": {},
   "source": [
    "Let's start by implementing the fast-marching method to solve the non-linear PDE defined by the Eikonal equation."
   ]
  },
  {
   "cell_type": "code",
   "execution_count": 2,
   "id": "finnish-resolution",
   "metadata": {},
   "outputs": [],
   "source": [
    "# Functions for solving Eikonal equation in 1D\n",
    "def sorting(tt, idx, ordering=\"a\"):\n",
    "    if ordering == \"a\":\n",
    "        sorted_indices = np.argsort(tt[idx])\n",
    "    elif ordering == \"d\":\n",
    "        sorted_indices = np.argsort(-tt[idx])\n",
    "    else:\n",
    "        raise ValueError(\"Unknonw ordering: %s! Provide a or d for ascending or descending\" % ordering)\n",
    "    \n",
    "    # Sorting indices\n",
    "    idx_sort = [idx[id] for id in sorted_indices]\n",
    "    return idx_sort\n",
    "\n",
    "\n",
    "# Fast-Marching-Method (FMM) \n",
    "def FMM_tt(tt, vv, dx, status, trial_idx):\n",
    "    \"\"\"Function to perform fast-marching method\"\"\"\n",
    "    nx = vv.shape[0]\n",
    "    dx_inv = 1.0 / dx\n",
    "    # Various necessary variables\n",
    "    drxns = [-1, 1]\n",
    "    nbrs = np.zeros(2, dtype=int)\n",
    "    # FFM main loop\n",
    "    while len(trial_idx) > 0:\n",
    "        # Getting trial point with smallest traveltime\n",
    "        active_idx = trial_idx.pop(0)\n",
    "        status[active_idx] = 'k'\n",
    "\n",
    "        # Creating indices of neighbouring points\n",
    "        for idx in range(2):\n",
    "            nbrs[idx] = active_idx + drxns[idx]\n",
    "\n",
    "        # Loop over neighbourning points\n",
    "        for idx, nb in enumerate(nbrs):\n",
    "            # If point is outside the domain or has a known traveltime skip it\n",
    "            if nb < 0 or nb >= nx or status[nb] == 'k':\n",
    "                continue\n",
    "            # Checking if the velocity model is positive\n",
    "            if vv[nb] > 0:\n",
    "                fdt = np.zeros(2)\n",
    "                order = np.zeros(2)\n",
    "                # Computing forward and backward derivatives from nb\n",
    "                for ii in range(2):\n",
    "                    nb_i = nb + drxns[ii]\n",
    "                    if (nb_i < nx and 0 <= nb_i) and status[nb_i] == 'k':\n",
    "                        order[ii] = 1\n",
    "                        fdt[ii] = drxns[ii] * (tt[nb_i]-tt[nb]) * dx_inv\n",
    "                    else:\n",
    "                        order[ii] = 0\n",
    "                # Selecting upwind derivative \n",
    "                if fdt[0] > -fdt[1]:\n",
    "                    ii, idrx = 0, -1\n",
    "                else:\n",
    "                    ii, idrx = 1, 1\n",
    "                # Selecting correct neighbourning point\n",
    "                nb_i = nb + idrx\n",
    "                # Updating traveltime by solving quadratic equation\n",
    "                if order[ii] == 0:\n",
    "                    a = b = c = 0\n",
    "                else:\n",
    "                    a = dx_inv * dx_inv\n",
    "                    b = -2 * a * tt[nb_i]\n",
    "                    c = tt[nb_i] * tt[nb_i] * a - 1.0 / (vv[nb]*vv[nb])\n",
    "                # Point out of bounds\n",
    "                if a == 0:\n",
    "                    continue\n",
    "                det = b*b - 4.0*a*c\n",
    "                if det < 0.0:\n",
    "                    # Negative determinant; set it to zero\n",
    "                    new_t = - b / (2 * a)\n",
    "                else:\n",
    "                    new_t = (- b + np.sqrt(det)) / (2*a)\n",
    "                # Checking if new traveltime is smaller than current estimate for this point\n",
    "                if new_t < tt[nb]:\n",
    "                    tt[nb] = new_t\n",
    "                    if status[nb] == 'u':\n",
    "                        trial_idx.append(nb)\n",
    "                        status[nb] = 't'\n",
    "                    else:\n",
    "                        trial_idx = sorting(tt, trial_idx)\n",
    "    return"
   ]
  },
  {
   "cell_type": "markdown",
   "id": "controlling-peninsula",
   "metadata": {},
   "source": [
    "Let's wrap this function into an operator class."
   ]
  },
  {
   "cell_type": "code",
   "execution_count": 3,
   "id": "based-figure",
   "metadata": {},
   "outputs": [],
   "source": [
    "class EikonalTT_1D(o.Operator):\n",
    "\n",
    "    def __init__(self, vel, tt_data, dx, SouPos, RecPos):\n",
    "        \"\"\"1D Eikonal-equation traveltime prediction operator\"\"\"\n",
    "        # Setting Domain and Range of the operator\n",
    "        self.setDomainRange(vel, tt_data)\n",
    "        # Setting acquisition geometry\n",
    "        self.nSou = SouPos.shape[0]\n",
    "        self.nRec = RecPos.shape[0]\n",
    "        self.SouPos = SouPos.copy()\n",
    "        self.RecPos = RecPos.copy()\n",
    "        dataShape = tt_data.shape\n",
    "        if dataShape[0] != self.nSou:\n",
    "            raise ValueError(\"Number of sources inconsistent with traveltime vector (shape[0])\")\n",
    "        if dataShape[1] != self.nRec:\n",
    "            raise ValueError(\"Number of receivers inconsistent with traveltime vector (shape[1])\")\n",
    "        self.dx = dx\n",
    "        self.nx = vel.shape[0]\n",
    "\n",
    "    def forward(self, add, model, data):\n",
    "        \"\"\"Forward non-linear traveltime prediction\"\"\"\n",
    "        self.checkDomainRange(model, data)\n",
    "        if not add: \n",
    "            data.zero()\n",
    "        dataNd = data.getNdArray()\n",
    "        velNd = model.getNdArray()\n",
    "        # Initialization\n",
    "        tt = np.zeros(self.nx)\n",
    "        for iShot in range(self.nSou):\n",
    "            # Initial conditions\n",
    "            status = np.array([\"u\"] * self.nx) # All points are unknown\n",
    "            tt.fill(np.inf)\n",
    "            trial_idx = []\n",
    "            # Initial conditions\n",
    "            idx = self.SouPos[iShot]\n",
    "            tt[idx] = 0.0\n",
    "            status[idx] = 't' # Trial status\n",
    "            trial_idx.append(idx)\n",
    "            # Sorting trial time ascending order\n",
    "            trial_idx = sorting(tt, trial_idx)\n",
    "            FMM_tt(tt, velNd, self.dx, status, trial_idx)     \n",
    "            for iRec in range(self.nRec):\n",
    "                dataNd[iShot, iRec] += tt[self.RecPos[iRec]]\n",
    "        return"
   ]
  },
  {
   "cell_type": "markdown",
   "id": "surgical-voice",
   "metadata": {},
   "source": [
    "We can now use this operator to compute some traveltimes using a simple velocity model in which a Gaussian anomaly is placed at its center."
   ]
  },
  {
   "cell_type": "code",
   "execution_count": 4,
   "id": "outdoor-minute",
   "metadata": {},
   "outputs": [
    {
     "data": {
      "image/png": "[encoded data removed]",
      "text/plain": [
       "<Figure size 720x432 with 1 Axes>"
      ]
     },
     "metadata": {
      "needs_background": "light"
     },
     "output_type": "display_data"
    }
   ],
   "source": [
    "# Sampling along the z direction\n",
    "dx = 0.1\n",
    "nx = 301\n",
    "x = np.linspace(0,(nx-1)*dx,nx)\n",
    "# Velocity model\n",
    "vv = o.VectorNumpy(np.zeros(nx), ax_info=[o.AxInfo(nx,0.,1.,\"velocity [km/s]\")])\n",
    "vv.set(2.0)\n",
    "vv[:] -= 0.8 * np.exp(-0.5*(x-(nx/2.0)*dx)**2)\n",
    "\n",
    "fig, ax = plt.subplots()\n",
    "ax.plot(x, vv.plot(), lw=4)\n",
    "ax.set_xlabel(\"x [km]\"), ax.set_ylabel(vv.ax_info[0].l)\n",
    "ax.set_xlim(0,30), ax.set_ylim(1,2.5)\n",
    "plt.tight_layout()\n",
    "plt.show()"
   ]
  },
  {
   "cell_type": "markdown",
   "id": "better-wages",
   "metadata": {},
   "source": [
    "Let's compute the traveltime for a single source and receivers at every grid point."
   ]
  },
  {
   "cell_type": "code",
   "execution_count": 5,
   "id": "material-surface",
   "metadata": {},
   "outputs": [
    {
     "data": {
      "image/png": "[encoded data removed]",
      "text/plain": [
       "<Figure size 720x432 with 1 Axes>"
      ]
     },
     "metadata": {
      "needs_background": "light"
     },
     "output_type": "display_data"
    }
   ],
   "source": [
    "# Source/Receiver positions\n",
    "SouPos = np.array([0])\n",
    "RecPos = np.arange(0, nx)\n",
    "\n",
    "# Data vector\n",
    "tt_data = o.VectorNumpy((1, nx)).zero()\n",
    "\n",
    "# Setting Forward non-linear operator\n",
    "Eik1D_Op = EikonalTT_1D(vv, tt_data, dx, SouPos, RecPos)\n",
    "Eik1D_Op.forward(False, vv, tt_data)\n",
    "\n",
    "# Plotting traveltime vector\n",
    "fig, ax = plt.subplots()\n",
    "ax.plot(RecPos * dx, tt_data[0, :], lw=4)\n",
    "ax.set_xlabel(\"x [km]\"), ax.set_ylabel(\"Traveltime [s]\")\n",
    "ax.set_xlim(0,30), ax.set_ylim(0,16)\n",
    "plt.tight_layout()\n",
    "plt.show()"
   ]
  },
  {
   "cell_type": "markdown",
   "id": "interested-powder",
   "metadata": {},
   "source": [
    "Let's implement and test the linearized Eikonal equation operators. Again we first define the functions to solve the forward and adjoint PDEs, and then we wrap it within an operator class."
   ]
  },
  {
   "cell_type": "code",
   "execution_count": 6,
   "id": "stock-terminology",
   "metadata": {},
   "outputs": [],
   "source": [
    "def FMM_tt_lin_fwd(delta_v, delta_tt, vv, tt, dx):\n",
    "    \"\"\"Fast-marching method linearized forward in 1D\"\"\"\n",
    "    nx = delta_v.shape[0]\n",
    "    drxns = [-1, 1]\n",
    "    nbrs = np.zeros(2, dtype=int)\n",
    "    dx_inv = 1.0 / dx\n",
    "    \n",
    "    tt_idx = np.arange(nx)\n",
    "    # Sorting traveltime in ascending order\n",
    "    tt_idx = sorting(tt, tt_idx)\n",
    "    \n",
    "    # Scaling the velocity perturbation\n",
    "    delta_v_scaled = - 2.0 * delta_v / (vv * vv * vv)\n",
    "\n",
    "    # Looping over all indices to solve linear equations from increasing traveltime values\n",
    "    for idx_t0 in tt_idx:\n",
    "        # If T = 0 or v = 0, then assuming zero to avoid singularity\n",
    "        if tt[idx_t0] == 0.0 or vv[idx_t0] == 0.0:\n",
    "            continue\n",
    "        # Creating indices of neighbouring points\n",
    "        for idx in range(2):\n",
    "            nbrs[idx] = idx_t0 + drxns[idx]\n",
    "\n",
    "        # Loop over neighbourning points to find up-wind direction\n",
    "        fdt = np.zeros(2)\n",
    "        order = np.zeros(2, dtype=int)\n",
    "        for idx, nb in enumerate(nbrs):\n",
    "            # If point is outside the domain skip it\n",
    "            if nb < 0 or nb >= nx:\n",
    "                continue\n",
    "            if vv[nb] > 0.0:\n",
    "                order[idx] = 1\n",
    "                fdt[idx] = drxns[idx] * (tt[nb]-tt[idx_t0]) * dx_inv\n",
    "            else:\n",
    "                order[idx] = 0\n",
    "        # Selecting upwind derivative \n",
    "        if fdt[0] > -fdt[1] and order[0] > 0:\n",
    "            ii, idrx = 0, -1\n",
    "        else:\n",
    "            ii, idrx = 1, 1\n",
    "        # Computing t0 space derivative\n",
    "        fdt0 = idrx * (tt[idx_t0 + idrx] - tt[idx_t0]) * dx_inv * dx_inv\n",
    "        delta_tt[idx_t0] += (2.0 * fdt0 * delta_tt[idx_t0 + idrx] - idrx * delta_v_scaled[idx_t0]) / (2.0 * fdt0)\n",
    "    return"
   ]
  },
  {
   "cell_type": "code",
   "execution_count": 7,
   "id": "egyptian-marina",
   "metadata": {},
   "outputs": [],
   "source": [
    "def select_upwind_der(tt, idx_t0, vv, dx_inv):\n",
    "    nbrs = np.zeros(2, dtype=int)\n",
    "    drxns = [-1, 1]\n",
    "    # Creating indices of neighbouring points\n",
    "    for idx in range(2):\n",
    "        nbrs[idx] = idx_t0 + drxns[idx]\n",
    "\n",
    "    # Loop over neighbourning points to find up-wind direction\n",
    "    fdt = np.zeros(2)\n",
    "    order = np.zeros(2, dtype=int)\n",
    "    for idx, nb in enumerate(nbrs):\n",
    "        # If point is outside the domain skip it\n",
    "        if nb < 0 or nb >= nx:\n",
    "            continue\n",
    "        if vv[nb] > 0.0:\n",
    "            order[idx] = 1\n",
    "            fdt[idx] = drxns[idx] * (tt[nb]-tt[idx_t0]) * dx_inv\n",
    "        else:\n",
    "            order[idx] = 0\n",
    "    # Selecting upwind derivative \n",
    "    if fdt[0] > -fdt[1] and order[0] > 0:\n",
    "        idrx = -1\n",
    "    else:\n",
    "        idrx = 1\n",
    "    return idrx, order\n",
    "            \n",
    "def FMM_tt_lin_adj(delta_v, delta_tt, vv, tt, dx):\n",
    "    \"\"\"Fast-marching method linearized adjoint in 1D\"\"\"\n",
    "    nx = delta_v.shape[0]\n",
    "    dx_inv = 1.0 / dx\n",
    "    tt_idx = np.arange(nx)\n",
    "    # Sorting traveltime in descending order\n",
    "    tt_idx = sorting(tt, tt_idx, ordering=\"d\")\n",
    "    \n",
    "    # Looping over all indices to solve linear equations from increasing traveltime values\n",
    "    for idx_t0 in tt_idx:\n",
    "        # Identify the type of row (i.e., central, edge, or initial conditions)\n",
    "        if tt[idx_t0] == 0.0 or vv[idx_t0] == 0.0:\n",
    "            continue\n",
    "        else:\n",
    "            idrx0, order0 = select_upwind_der(tt, idx_t0, vv, dx_inv)\n",
    "            # Computing k0 (derivative coefficient at the current index)\n",
    "            k0 = 2.0 * np.sign(idrx0) * idrx0 * (tt[idx_t0 + idrx0] - tt[idx_t0]) * dx_inv * dx_inv\n",
    "            nb = idx_t0 - idrx0\n",
    "            # Checking if at a boundary\n",
    "            if nb < 0 or nb >= nx:\n",
    "                delta_v[idx_t0] =  delta_tt[idx_t0] / k0\n",
    "            else:\n",
    "                # Computing k1 (derivative coefficient at the forward or backgward index)\n",
    "                idrx1, order1 = select_upwind_der(tt, nb, vv, dx_inv)\n",
    "                k_fb = 2.0 * np.sign(idrx1) * idrx1 * (tt[nb + idrx1] - tt[nb]) * dx_inv * dx_inv\n",
    "                delta_v[idx_t0] += (delta_tt[idx_t0] + k_fb * delta_v[nb]) / k0\n",
    "            \n",
    "    # Scaling the velocity perturbation\n",
    "    delta_v[:] = 2.0 * delta_v / (vv * vv * vv)\n",
    "    return"
   ]
  },
  {
   "cell_type": "code",
   "execution_count": 8,
   "id": "preceding-burns",
   "metadata": {},
   "outputs": [],
   "source": [
    "class EikonalTT_lin_1D(o.Operator):\n",
    "\n",
    "    def __init__(self, vel, tt_data, dx, SouPos, RecPos):\n",
    "        \"\"\"1D Eikonal-equation traveltime prediction operator\"\"\"\n",
    "        # Setting Domain and Range of the operator\n",
    "        super(EikonalTT_lin_1D, self).__init__(domain=vel, range=tt_data)\n",
    "        # Setting acquisition geometry\n",
    "        self.nSou = SouPos.shape[0]\n",
    "        self.nRec = RecPos.shape[0]\n",
    "        self.SouPos = SouPos.copy()\n",
    "        self.RecPos = RecPos.copy()\n",
    "        dataShape = tt_data.shape\n",
    "        if dataShape[0] != self.nSou:\n",
    "            raise ValueError(\"Number of sources inconsistent with traveltime vector (shape[0])\")\n",
    "        if dataShape[1] != self.nRec:\n",
    "            raise ValueError(\"Number of receivers inconsistent with traveltime vector (shape[1])\")\n",
    "        self.dx = dx\n",
    "        self.nx = vel.shape[0]\n",
    "        # Background model\n",
    "        self.vel = vel.clone()\n",
    "        self.vel.copy(vel)\n",
    "\n",
    "    def forward(self, add, model, data):\n",
    "        \"\"\"Forward linearized traveltime prediction\"\"\"\n",
    "        self.checkDomainRange(model, data)\n",
    "        if not add: \n",
    "            data.zero()\n",
    "        dataNd = data.getNdArray()\n",
    "        modelNd = model.getNdArray()\n",
    "        vel0Nd = self.vel.getNdArray()\n",
    "        # Initialization\n",
    "        tt0 = np.zeros(self.nx)\n",
    "        for iShot in range(self.nSou):\n",
    "            ###################################\n",
    "            # Computing background traveltime #\n",
    "            ###################################\n",
    "            # Initial conditions\n",
    "            status = np.array([\"u\"] * self.nx) # All points are unknown\n",
    "            tt0.fill(np.inf)\n",
    "            trial_idx = []\n",
    "            # Initial conditions\n",
    "            idx = self.SouPos[iShot]\n",
    "            tt0[idx] = 0.0\n",
    "            status[idx] = 't' # Trial status\n",
    "            trial_idx.append(idx)\n",
    "            # Sorting trial time ascending order\n",
    "            trial_idx = sorting(tt0, trial_idx)\n",
    "            FMM_tt(tt0, vel0Nd, self.dx, status, trial_idx) \n",
    "            ###################################\n",
    "            # Computing linearized traveltime #\n",
    "            ###################################\n",
    "            delta_tt = np.zeros(self.nx)\n",
    "            FMM_tt_lin_fwd(modelNd, delta_tt, vel0Nd, tt0, self.dx)\n",
    "            for iRec in range(self.nRec):\n",
    "                dataNd[iShot, iRec] += delta_tt[self.RecPos[iRec]]\n",
    "        return\n",
    "    \n",
    "    def adjoint(self, add, model, data):\n",
    "        \"\"\"Adjoint linearized traveltime prediction\"\"\"\n",
    "        self.checkDomainRange(model, data)\n",
    "        if not add: \n",
    "            model.zero()\n",
    "        dataNd = data.getNdArray()\n",
    "        modelNd = model.getNdArray()\n",
    "        vel0Nd = self.vel.getNdArray()\n",
    "        # Initialization\n",
    "        tt0 = np.zeros(self.nx)\n",
    "        for iShot in range(self.nSou):\n",
    "            ###################################\n",
    "            # Computing background traveltime #\n",
    "            ###################################\n",
    "            # Initial conditions\n",
    "            status = np.array([\"u\"] * self.nx) # All points are unknown\n",
    "            tt0.fill(np.inf)\n",
    "            trial_idx = []\n",
    "            # Initial conditions\n",
    "            idx = self.SouPos[iShot]\n",
    "            tt0[idx] = 0.0\n",
    "            status[idx] = 't' # Trial status\n",
    "            trial_idx.append(idx)\n",
    "            # Sorting trial time ascending order\n",
    "            trial_idx = sorting(tt0, trial_idx)\n",
    "            FMM_tt(tt0, vel0Nd, self.dx, status, trial_idx) \n",
    "            ###################################\n",
    "            # Computing velocity perturbation #\n",
    "            ###################################\n",
    "            delta_tt = np.zeros(self.nx)\n",
    "            delta_v = np.zeros(self.nx)\n",
    "            # Injecting traveltime to correct grid positions\n",
    "            for iRec in range(self.nRec):\n",
    "                delta_tt[self.RecPos[iRec]] = dataNd[iShot, iRec]\n",
    "            FMM_tt_lin_adj(delta_v, delta_tt, vel0Nd, tt0, self.dx)\n",
    "            modelNd[:] += delta_v\n",
    "        return\n",
    "    \n",
    "    def set_vel(self, vel):\n",
    "        \"\"\"Function to set background velocity model\"\"\"\n",
    "        self.vel.copy(vel)"
   ]
  },
  {
   "cell_type": "markdown",
   "id": "retained-release",
   "metadata": {},
   "source": [
    "Let's start by testing the adjointness of the forward and adjoint methods."
   ]
  },
  {
   "cell_type": "code",
   "execution_count": 9,
   "id": "appreciated-nightlife",
   "metadata": {},
   "outputs": [
    {
     "name": "stdout",
     "output_type": "stream",
     "text": [
      "Dot-product tests of forward and adjoint operators\n",
      "--------------------------------------------------\n",
      "Applying forward operator add=False\n",
      " Runs in: 0.008758783340454102 seconds\n",
      "Applying adjoint operator add=False\n",
      " Runs in: 0.011502265930175781 seconds\n",
      "Dot products add=False: domain=6.980588e-01 range=6.980588e-01 \n",
      "Absolute error: 7.771561e-16\n",
      "Relative error: 1.113310e-15 \n",
      "\n",
      "Applying forward operator add=True\n",
      " Runs in: 0.008133649826049805 seconds\n",
      "Applying adjoint operator add=True\n",
      " Runs in: 0.013436317443847656 seconds\n",
      "Dot products add=True: domain=1.396118e+00 range=1.396118e+00 \n",
      "Absolute error: 1.554312e-15\n",
      "Relative error: 1.113310e-15 \n",
      "\n",
      "-------------------------------------------------\n"
     ]
    }
   ],
   "source": [
    "# Dot-product test for the linearized Eikonal equation in 1D\n",
    "Eik1D_Lin_Op = EikonalTT_lin_1D(vv, tt_data, dx, SouPos, RecPos)\n",
    "Eik1D_Lin_Op.dotTest(True)"
   ]
  },
  {
   "cell_type": "markdown",
   "id": "colonial-luxury",
   "metadata": {},
   "source": [
    "The linearization error of the linearized Eikonal operator $\\mathbf{F}$ should follow:\n",
    "\\begin{eqnarray}\n",
    "e = \\|\\mathbf{f}(\\mathbf{v}+\\alpha\\Delta\\mathbf{v})-\\mathbf{f}(\\mathbf{v})-\\alpha\\mathbf{F}(\\mathbf{v})\\Delta\\mathbf{v}\\|_2=\\mathcal{O}(\\alpha^2) \\;\\rm{as}\\; \\alpha \\to 0,\n",
    "\\end{eqnarray}\n",
    "where $\\alpha$ is the scale associated with the velocity perturbation $\\Delta\\mathbf{v}$. Let's test if this is the case for our operator."
   ]
  },
  {
   "cell_type": "code",
   "execution_count": 10,
   "id": "elementary-nursing",
   "metadata": {},
   "outputs": [
    {
     "data": {
      "image/png": "[encoded data removed]",
      "text/plain": [
       "<Figure size 720x432 with 1 Axes>"
      ]
     },
     "metadata": {
      "needs_background": "light"
     },
     "output_type": "display_data"
    }
   ],
   "source": [
    "Eik1D_NlOp = o.NonlinearOperator(Eik1D_Op, Eik1D_Lin_Op, Eik1D_Lin_Op.set_vel)\n",
    "alpha, err = Eik1D_NlOp.linTest(vv)\n",
    "M = err[0]/(alpha[0]*alpha[0])\n",
    "\n",
    "fig, ax = plt.subplots()\n",
    "ax.loglog(alpha,err, lw=4, label=\"Computed error\")\n",
    "ax.loglog(alpha,M*alpha*alpha, lw=3, ls=\"--\", label=\"Theoretical bound\")\n",
    "\n",
    "ax.set_xlabel(r\"$\\alpha$\"), ax.set_ylabel(\"e [s]\")\n",
    "ax.set_xlim(1e-6,1)\n",
    "ax.legend()\n",
    "\n",
    "plt.tight_layout()\n",
    "plt.show()"
   ]
  },
  {
   "cell_type": "markdown",
   "id": "white-marijuana",
   "metadata": {},
   "source": [
    "## Eikonal traveltime tomography "
   ]
  },
  {
   "cell_type": "markdown",
   "id": "southeast-medication",
   "metadata": {},
   "source": [
    "Now that we are confident that our operators are working properly, we can set up an inversion problem. We are going to solve a bounded non-linear L2-norm problem defined as follows:\n",
    "\\begin{equation}\n",
    "\\phi(\\mathbf{v}) = \\frac{1}{2}\\|\\mathbf{f}(\\mathbf{v}) - \\pmb{\\tau}_{obs}\\|_2^2,\\\\\n",
    "\\text{s.t.} \\; \\mathbf{v}_{l} \\leq \\mathbf{v} \\leq \\mathbf{v}_{u}\n",
    "\\end{equation}"
   ]
  },
  {
   "cell_type": "code",
   "execution_count": 11,
   "id": "angry-columbia",
   "metadata": {},
   "outputs": [],
   "source": [
    "# Source/Receiver positions\n",
    "SouPos = np.arange(0, nx, 150)\n",
    "RecPos = np.arange(0, nx, 10)\n",
    "\n",
    "# Data vector\n",
    "tt_data = o.VectorNumpy((SouPos.shape[0], RecPos.shape[0])).zero()\n",
    "\n",
    "# Instantiating non-linear operator\n",
    "Eik1D_Op = EikonalTT_1D(vv, tt_data, dx, SouPos, RecPos)\n",
    "Eik1D_Op.forward(False, vv, tt_data)\n",
    "Eik1D_Lin_Op = EikonalTT_lin_1D(vv, tt_data, dx, SouPos, RecPos)\n",
    "Eik1D_NlOp = o.NonlinearOperator(Eik1D_Op, Eik1D_Lin_Op, Eik1D_Lin_Op.set_vel)"
   ]
  },
  {
   "cell_type": "markdown",
   "id": "coupled-check",
   "metadata": {},
   "source": [
    "Let's generated the observed data using 3 sources and receivers every 1 km."
   ]
  },
  {
   "cell_type": "code",
   "execution_count": 12,
   "id": "imposed-argentina",
   "metadata": {},
   "outputs": [],
   "source": [
    "# Creating observed data\n",
    "Eik1D_Op.forward(False, vv, tt_data)\n",
    "tt_data_obs = tt_data.clone()"
   ]
  },
  {
   "cell_type": "code",
   "execution_count": 13,
   "id": "lasting-alberta",
   "metadata": {},
   "outputs": [
    {
     "data": {
      "image/png": "[encoded data removed]",
      "text/plain": [
       "<Figure size 720x432 with 3 Axes>"
      ]
     },
     "metadata": {
      "needs_background": "light"
     },
     "output_type": "display_data"
    }
   ],
   "source": [
    "fig, axs = plt.subplots(1,3, sharey=True)\n",
    "\n",
    "axs[0].scatter(RecPos*dx, tt_data_obs.plot()[0], linewidth=4)\n",
    "axs[0].set_ylabel(\"traveltime [s]\")\n",
    "axs[0].set_xlabel(\"x [km]\")\n",
    "axs[0].set_ylim([0.0, 16.0])\n",
    "axs[0].autoscale(enable=True, axis='x', tight=True)\n",
    "\n",
    "axs[1].scatter(RecPos*dx, tt_data_obs.plot()[1], linewidth=4)\n",
    "axs[1].set_xlabel(\"x [km]\")\n",
    "axs[1].autoscale(enable=True, axis='x', tight=True)\n",
    "\n",
    "axs[2].scatter(RecPos*dx, tt_data_obs.plot()[2], linewidth=4)\n",
    "axs[2].set_xlabel(\"x [km]\")\n",
    "axs[2].autoscale(enable=True, axis='x', tight=True)\n",
    "\n",
    "plt.show()"
   ]
  },
  {
   "cell_type": "markdown",
   "id": "developed-trustee",
   "metadata": {},
   "source": [
    "We start the inversion by assuming a velocity model in which the Gaussian anomaly is not present."
   ]
  },
  {
   "cell_type": "code",
   "execution_count": 14,
   "id": "basic-uganda",
   "metadata": {},
   "outputs": [
    {
     "data": {
      "image/png": "[encoded data removed]",
      "text/plain": [
       "<Figure size 720x432 with 1 Axes>"
      ]
     },
     "metadata": {
      "needs_background": "light"
     },
     "output_type": "display_data"
    }
   ],
   "source": [
    "vv_init = vv.clone().set(2.0)\n",
    "\n",
    "fig, ax = plt.subplots()\n",
    "ax.plot(x, vv.plot(), lw=4, label=\"True\")\n",
    "ax.plot(x, vv_init.plot(), c=\"red\", ls=\"--\", lw=4, label=\"Initial\")\n",
    "ax.set_xlabel(\"x [km]\"), ax.set_ylabel(vv.ax_info[0].l)\n",
    "ax.set_xlim(0,30), ax.set_ylim(1,2.5)\n",
    "ax.legend()\n",
    "plt.tight_layout()\n",
    "plt.show()"
   ]
  },
  {
   "cell_type": "markdown",
   "id": "vocal-composer",
   "metadata": {},
   "source": [
    "Let's compare the traveltime difference between the initially predicted and observed traveltimes for each source."
   ]
  },
  {
   "cell_type": "code",
   "execution_count": 15,
   "id": "d5459d38",
   "metadata": {},
   "outputs": [],
   "source": [
    "# Creating initial data\n",
    "Eik1D_Op.forward(False, vv_init, tt_data)"
   ]
  },
  {
   "cell_type": "code",
   "execution_count": 16,
   "id": "korean-sight",
   "metadata": {},
   "outputs": [
    {
     "data": {
      "image/png": "[encoded data removed]",
      "text/plain": [
       "<Figure size 720x432 with 3 Axes>"
      ]
     },
     "metadata": {
      "needs_background": "light"
     },
     "output_type": "display_data"
    }
   ],
   "source": [
    "fig, axs = plt.subplots(1,3, sharey=True)\n",
    "\n",
    "axs[0].scatter(RecPos*dx, tt_data_obs.plot()[0], label=\"observed\")\n",
    "axs[0].scatter(RecPos*dx, tt_data.plot()[0], c=\"r\", ls=\"--\", label=\"initial\")\n",
    "axs[0].legend()\n",
    "axs[0].set_ylabel(\"traveltime [s]\")\n",
    "axs[0].set_xlabel(\"x [km]\")\n",
    "axs[0].set_ylim([0.0, 16.0])\n",
    "axs[0].autoscale(enable=True, axis='x', tight=True)\n",
    "\n",
    "axs[1].scatter(RecPos*dx, tt_data_obs.plot()[1], label=\"observed\")\n",
    "axs[1].scatter(RecPos*dx, tt_data.plot()[1], c=\"r\", ls=\"--\", label=\"initial\")\n",
    "axs[1].set_xlabel(\"x [km]\")\n",
    "axs[1].autoscale(enable=True, axis='x', tight=True)\n",
    "\n",
    "axs[2].scatter(RecPos*dx, tt_data_obs.plot()[2], label=\"observed\")\n",
    "axs[2].scatter(RecPos*dx, tt_data.plot()[2], c=\"r\", ls=\"--\", label=\"initial\")\n",
    "axs[2].set_xlabel(\"x [km]\")\n",
    "axs[2].autoscale(enable=True, axis='x', tight=True)\n",
    "\n",
    "plt.show()"
   ]
  },
  {
   "cell_type": "markdown",
   "id": "worse-singles",
   "metadata": {},
   "source": [
    "We now solve the non-linear constrained optimization problem using the solver L-BFGS-B."
   ]
  },
  {
   "cell_type": "code",
   "execution_count": 17,
   "id": "fundamental-chocolate",
   "metadata": {},
   "outputs": [],
   "source": [
    "minBound = o.VectorNumpy((nx,)).set(1.)\n",
    "maxBound = o.VectorNumpy((nx,)).set(3.)\n",
    "\n",
    "Stop  = o.BasicStopper(niter=250)\n",
    "BFGSBsolver = o.LBFGSB(Stop, m_steps=30)\n",
    "\n",
    "filt = o.VectorNumpy((15,)).set(1.)\n",
    "SmoothOp = o.ConvND(vv_init, filt)\n",
    "\n",
    "mask = o.VectorNumpy((nx,)).zero()\n",
    "mask[int(nx*0.25):int(nx*0.75)] = 1.0\n",
    "\n",
    "Eik1D_Inv_NlOp = o.NonlinearOperator(Eik1D_Op, Eik1D_Lin_Op*SmoothOp, Eik1D_Lin_Op.set_vel)\n",
    "\n",
    "L2_tt_prob = o.NonlinearLeastSquares(vv_init.clone(), tt_data_obs, Eik1D_Inv_NlOp,\n",
    "                                     minBound=minBound, maxBound=maxBound, grad_mask=mask)"
   ]
  },
  {
   "cell_type": "code",
   "execution_count": 18,
   "id": "stuck-supervision",
   "metadata": {
    "scrolled": true
   },
   "outputs": [
    {
     "name": "stdout",
     "output_type": "stream",
     "text": [
      "##########################################################################################\n",
      "            L-BFGS-B Solver \n",
      "    Max steps to invert the Hessian: 30 \n",
      "    Restart folder: /tmp/restart_2022-04-22T01-46-03.542275/\n",
      "##########################################################################################\n",
      "\n",
      "iter = 000, obj = 9.37e+00, rnorm = 4.33e+00, gnorm = 1.08e+02, feval = 0001, geval = 001\n",
      "iter = 001, obj = 3.47e+00, rnorm = 2.63e+00, gnorm = 6.77e+01, feval = 0002, geval = 002\n",
      "iter = 002, obj = 8.95e-01, rnorm = 1.34e+00, gnorm = 2.91e+01, feval = 0003, geval = 003\n",
      "iter = 003, obj = 4.79e-01, rnorm = 9.79e-01, gnorm = 6.28e+00, feval = 0004, geval = 004\n",
      "iter = 004, obj = 4.49e-01, rnorm = 9.48e-01, gnorm = 4.90e+00, feval = 0005, geval = 005\n",
      "iter = 005, obj = 3.49e-01, rnorm = 8.35e-01, gnorm = 4.73e+00, feval = 0006, geval = 006\n",
      "iter = 006, obj = 3.13e-01, rnorm = 7.92e-01, gnorm = 4.47e+00, feval = 0007, geval = 007\n",
      "iter = 007, obj = 2.69e-01, rnorm = 7.34e-01, gnorm = 7.38e+00, feval = 0008, geval = 008\n",
      "iter = 008, obj = 2.35e-01, rnorm = 6.86e-01, gnorm = 3.48e+00, feval = 0009, geval = 009\n",
      "iter = 009, obj = 1.57e-01, rnorm = 5.61e-01, gnorm = 1.21e+01, feval = 0010, geval = 010\n",
      "iter = 010, obj = 9.05e-02, rnorm = 4.25e-01, gnorm = 3.13e+00, feval = 0011, geval = 011\n",
      "iter = 011, obj = 8.35e-02, rnorm = 4.09e-01, gnorm = 1.90e+00, feval = 0012, geval = 012\n",
      "iter = 012, obj = 6.97e-02, rnorm = 3.73e-01, gnorm = 2.81e+00, feval = 0013, geval = 013\n",
      "iter = 013, obj = 6.49e-02, rnorm = 3.60e-01, gnorm = 1.55e+00, feval = 0014, geval = 014\n",
      "iter = 014, obj = 3.85e-02, rnorm = 2.77e-01, gnorm = 2.06e+00, feval = 0015, geval = 015\n",
      "iter = 015, obj = 3.59e-02, rnorm = 2.68e-01, gnorm = 1.01e+00, feval = 0016, geval = 016\n",
      "iter = 016, obj = 2.93e-02, rnorm = 2.42e-01, gnorm = 2.08e+00, feval = 0017, geval = 017\n",
      "iter = 017, obj = 2.73e-02, rnorm = 2.34e-01, gnorm = 9.48e-01, feval = 0018, geval = 018\n",
      "iter = 018, obj = 2.61e-02, rnorm = 2.29e-01, gnorm = 9.52e-01, feval = 0019, geval = 019\n",
      "iter = 019, obj = 2.51e-02, rnorm = 2.24e-01, gnorm = 8.30e-01, feval = 0020, geval = 020\n",
      "iter = 020, obj = 2.40e-02, rnorm = 2.19e-01, gnorm = 9.28e-01, feval = 0021, geval = 021\n",
      "iter = 021, obj = 2.32e-02, rnorm = 2.15e-01, gnorm = 7.39e-01, feval = 0022, geval = 022\n",
      "iter = 022, obj = 2.18e-02, rnorm = 2.09e-01, gnorm = 1.02e+00, feval = 0023, geval = 023\n",
      "iter = 023, obj = 2.11e-02, rnorm = 2.06e-01, gnorm = 6.31e-01, feval = 0024, geval = 024\n",
      "iter = 024, obj = 1.50e-02, rnorm = 1.73e-01, gnorm = 2.24e+00, feval = 0025, geval = 025\n",
      "iter = 025, obj = 1.30e-02, rnorm = 1.61e-01, gnorm = 8.11e-01, feval = 0026, geval = 026\n",
      "iter = 026, obj = 1.27e-02, rnorm = 1.59e-01, gnorm = 4.43e-01, feval = 0027, geval = 027\n",
      "iter = 027, obj = 1.21e-02, rnorm = 1.55e-01, gnorm = 6.83e-01, feval = 0028, geval = 028\n",
      "iter = 028, obj = 1.19e-02, rnorm = 1.54e-01, gnorm = 4.60e-01, feval = 0029, geval = 029\n",
      "iter = 029, obj = 1.16e-02, rnorm = 1.52e-01, gnorm = 4.72e-01, feval = 0030, geval = 030\n",
      "iter = 030, obj = 1.12e-02, rnorm = 1.50e-01, gnorm = 4.91e-01, feval = 0031, geval = 031\n",
      "iter = 031, obj = 1.10e-02, rnorm = 1.49e-01, gnorm = 3.86e-01, feval = 0032, geval = 032\n",
      "iter = 032, obj = 9.36e-03, rnorm = 1.37e-01, gnorm = 1.05e+00, feval = 0033, geval = 033\n",
      "iter = 033, obj = 8.95e-03, rnorm = 1.34e-01, gnorm = 5.61e-01, feval = 0034, geval = 034\n",
      "iter = 034, obj = 8.75e-03, rnorm = 1.32e-01, gnorm = 3.33e-01, feval = 0035, geval = 035\n",
      "iter = 035, obj = 2.69e-03, rnorm = 7.33e-02, gnorm = 5.56e-01, feval = 0036, geval = 036\n",
      "iter = 036, obj = 2.54e-03, rnorm = 7.13e-02, gnorm = 1.74e-01, feval = 0037, geval = 037\n",
      "iter = 037, obj = 2.38e-03, rnorm = 6.91e-02, gnorm = 3.74e-01, feval = 0038, geval = 038\n",
      "iter = 038, obj = 2.32e-03, rnorm = 6.81e-02, gnorm = 1.64e-01, feval = 0039, geval = 039\n",
      "iter = 039, obj = 2.18e-03, rnorm = 6.60e-02, gnorm = 3.36e-01, feval = 0040, geval = 040\n",
      "iter = 040, obj = 2.13e-03, rnorm = 6.52e-02, gnorm = 1.59e-01, feval = 0041, geval = 041\n",
      "iter = 041, obj = 2.05e-03, rnorm = 6.40e-02, gnorm = 2.97e-01, feval = 0042, geval = 042\n",
      "iter = 042, obj = 2.00e-03, rnorm = 6.33e-02, gnorm = 1.44e-01, feval = 0043, geval = 043\n",
      "iter = 043, obj = 1.76e-03, rnorm = 5.93e-02, gnorm = 3.70e-01, feval = 0044, geval = 044\n",
      "iter = 044, obj = 1.70e-03, rnorm = 5.83e-02, gnorm = 1.55e-01, feval = 0045, geval = 045\n",
      "iter = 045, obj = 1.67e-03, rnorm = 5.77e-02, gnorm = 1.89e-01, feval = 0046, geval = 046\n",
      "iter = 046, obj = 1.64e-03, rnorm = 5.72e-02, gnorm = 1.34e-01, feval = 0047, geval = 047\n",
      "iter = 047, obj = 1.58e-03, rnorm = 5.63e-02, gnorm = 2.69e-01, feval = 0048, geval = 048\n",
      "iter = 048, obj = 1.54e-03, rnorm = 5.56e-02, gnorm = 1.19e-01, feval = 0049, geval = 049\n",
      "iter = 049, obj = 8.46e-04, rnorm = 4.11e-02, gnorm = 1.21e-01, feval = 0050, geval = 050\n",
      "iter = 050, obj = 8.34e-04, rnorm = 4.08e-02, gnorm = 9.70e-02, feval = 0051, geval = 051\n",
      "iter = 051, obj = 8.20e-04, rnorm = 4.05e-02, gnorm = 1.14e-01, feval = 0052, geval = 052\n",
      "iter = 052, obj = 8.09e-04, rnorm = 4.02e-02, gnorm = 8.56e-02, feval = 0053, geval = 053\n",
      "iter = 053, obj = 7.89e-04, rnorm = 3.97e-02, gnorm = 1.52e-01, feval = 0054, geval = 054\n",
      "iter = 054, obj = 7.76e-04, rnorm = 3.94e-02, gnorm = 7.60e-02, feval = 0055, geval = 055\n",
      "iter = 055, obj = 6.10e-04, rnorm = 3.49e-02, gnorm = 3.57e-01, feval = 0056, geval = 056\n",
      "iter = 056, obj = 5.59e-04, rnorm = 3.34e-02, gnorm = 1.11e-01, feval = 0057, geval = 057\n",
      "iter = 057, obj = 5.51e-04, rnorm = 3.32e-02, gnorm = 6.39e-02, feval = 0058, geval = 058\n",
      "iter = 058, obj = 5.34e-04, rnorm = 3.27e-02, gnorm = 1.42e-01, feval = 0059, geval = 059\n",
      "iter = 059, obj = 5.23e-04, rnorm = 3.24e-02, gnorm = 5.90e-02, feval = 0060, geval = 060\n",
      "iter = 060, obj = 4.63e-04, rnorm = 3.04e-02, gnorm = 2.61e-01, feval = 0061, geval = 061\n",
      "iter = 061, obj = 4.34e-04, rnorm = 2.95e-02, gnorm = 5.79e-02, feval = 0062, geval = 062\n",
      "iter = 062, obj = 4.25e-04, rnorm = 2.91e-02, gnorm = 9.75e-02, feval = 0063, geval = 063\n",
      "iter = 063, obj = 4.19e-04, rnorm = 2.89e-02, gnorm = 5.15e-02, feval = 0064, geval = 064\n",
      "iter = 064, obj = 3.70e-04, rnorm = 2.72e-02, gnorm = 1.99e-01, feval = 0065, geval = 065\n",
      "iter = 065, obj = 3.53e-04, rnorm = 2.66e-02, gnorm = 6.10e-02, feval = 0066, geval = 066\n",
      "iter = 066, obj = 3.49e-04, rnorm = 2.64e-02, gnorm = 6.14e-02, feval = 0067, geval = 067\n",
      "iter = 067, obj = 3.45e-04, rnorm = 2.63e-02, gnorm = 5.84e-02, feval = 0068, geval = 068\n",
      "iter = 068, obj = 3.41e-04, rnorm = 2.61e-02, gnorm = 6.19e-02, feval = 0069, geval = 069\n",
      "iter = 069, obj = 3.37e-04, rnorm = 2.59e-02, gnorm = 5.62e-02, feval = 0070, geval = 070\n",
      "iter = 070, obj = 3.33e-04, rnorm = 2.58e-02, gnorm = 6.32e-02, feval = 0071, geval = 071\n",
      "iter = 071, obj = 3.29e-04, rnorm = 2.56e-02, gnorm = 5.36e-02, feval = 0072, geval = 072\n",
      "iter = 072, obj = 3.25e-04, rnorm = 2.55e-02, gnorm = 6.60e-02, feval = 0073, geval = 073\n",
      "iter = 073, obj = 3.21e-04, rnorm = 2.53e-02, gnorm = 5.04e-02, feval = 0074, geval = 074\n",
      "iter = 074, obj = 3.16e-04, rnorm = 2.52e-02, gnorm = 7.18e-02, feval = 0075, geval = 075\n",
      "iter = 075, obj = 3.13e-04, rnorm = 2.50e-02, gnorm = 4.68e-02, feval = 0076, geval = 076\n",
      "iter = 076, obj = 3.07e-04, rnorm = 2.48e-02, gnorm = 8.54e-02, feval = 0077, geval = 077\n",
      "iter = 077, obj = 3.03e-04, rnorm = 2.46e-02, gnorm = 4.28e-02, feval = 0078, geval = 078\n",
      "iter = 078, obj = 2.90e-04, rnorm = 2.41e-02, gnorm = 1.34e-01, feval = 0079, geval = 079\n",
      "iter = 079, obj = 2.82e-04, rnorm = 2.37e-02, gnorm = 4.04e-02, feval = 0080, geval = 080\n",
      "iter = 080, obj = 2.56e-04, rnorm = 2.26e-02, gnorm = 1.45e-01, feval = 0081, geval = 081\n",
      "iter = 081, obj = 2.47e-04, rnorm = 2.22e-02, gnorm = 4.21e-02, feval = 0082, geval = 082\n",
      "iter = 082, obj = 2.43e-04, rnorm = 2.21e-02, gnorm = 6.65e-02, feval = 0083, geval = 083\n",
      "iter = 083, obj = 2.41e-04, rnorm = 2.19e-02, gnorm = 3.86e-02, feval = 0084, geval = 084\n",
      "iter = 084, obj = 2.35e-04, rnorm = 2.17e-02, gnorm = 8.60e-02, feval = 0085, geval = 085\n",
      "iter = 085, obj = 2.31e-04, rnorm = 2.15e-02, gnorm = 3.54e-02, feval = 0086, geval = 086\n",
      "iter = 086, obj = 1.98e-04, rnorm = 1.99e-02, gnorm = 1.87e-01, feval = 0087, geval = 087\n",
      "iter = 087, obj = 1.84e-04, rnorm = 1.92e-02, gnorm = 5.49e-02, feval = 0088, geval = 088\n",
      "iter = 088, obj = 1.82e-04, rnorm = 1.91e-02, gnorm = 3.37e-02, feval = 0089, geval = 089\n",
      "iter = 089, obj = 1.78e-04, rnorm = 1.89e-02, gnorm = 6.19e-02, feval = 0090, geval = 090\n"
     ]
    },
    {
     "name": "stdout",
     "output_type": "stream",
     "text": [
      "iter = 090, obj = 1.76e-04, rnorm = 1.88e-02, gnorm = 3.10e-02, feval = 0091, geval = 091\n",
      "iter = 091, obj = 1.69e-04, rnorm = 1.84e-02, gnorm = 9.35e-02, feval = 0092, geval = 092\n",
      "iter = 092, obj = 1.65e-04, rnorm = 1.82e-02, gnorm = 2.95e-02, feval = 0093, geval = 093\n",
      "iter = 093, obj = 1.51e-04, rnorm = 1.74e-02, gnorm = 1.07e-01, feval = 0094, geval = 094\n",
      "iter = 094, obj = 1.46e-04, rnorm = 1.71e-02, gnorm = 3.26e-02, feval = 0095, geval = 095\n",
      "iter = 095, obj = 1.45e-04, rnorm = 1.70e-02, gnorm = 4.36e-02, feval = 0096, geval = 096\n",
      "iter = 096, obj = 1.43e-04, rnorm = 1.69e-02, gnorm = 3.03e-02, feval = 0097, geval = 097\n",
      "iter = 097, obj = 1.41e-04, rnorm = 1.68e-02, gnorm = 4.88e-02, feval = 0098, geval = 098\n",
      "iter = 098, obj = 1.40e-04, rnorm = 1.67e-02, gnorm = 2.82e-02, feval = 0099, geval = 099\n",
      "iter = 099, obj = 1.37e-04, rnorm = 1.65e-02, gnorm = 6.23e-02, feval = 0100, geval = 100\n",
      "iter = 100, obj = 1.35e-04, rnorm = 1.64e-02, gnorm = 2.59e-02, feval = 0101, geval = 101\n",
      "iter = 101, obj = 1.18e-04, rnorm = 1.54e-02, gnorm = 1.37e-01, feval = 0102, geval = 102\n",
      "iter = 102, obj = 1.10e-04, rnorm = 1.49e-02, gnorm = 3.90e-02, feval = 0103, geval = 103\n",
      "iter = 103, obj = 1.09e-04, rnorm = 1.48e-02, gnorm = 2.58e-02, feval = 0104, geval = 104\n",
      "iter = 104, obj = 1.08e-04, rnorm = 1.47e-02, gnorm = 4.34e-02, feval = 0105, geval = 105\n",
      "iter = 105, obj = 1.07e-04, rnorm = 1.46e-02, gnorm = 2.38e-02, feval = 0106, geval = 106\n",
      "iter = 106, obj = 1.04e-04, rnorm = 1.44e-02, gnorm = 6.04e-02, feval = 0107, geval = 107\n",
      "iter = 107, obj = 1.02e-04, rnorm = 1.43e-02, gnorm = 2.21e-02, feval = 0108, geval = 108\n",
      "iter = 108, obj = 5.28e-05, rnorm = 1.03e-02, gnorm = 2.41e-02, feval = 0109, geval = 109\n",
      "iter = 109, obj = 5.23e-05, rnorm = 1.02e-02, gnorm = 2.03e-02, feval = 0110, geval = 110\n",
      "iter = 110, obj = 5.19e-05, rnorm = 1.02e-02, gnorm = 1.83e-02, feval = 0111, geval = 111\n",
      "iter = 111, obj = 5.14e-05, rnorm = 1.01e-02, gnorm = 1.99e-02, feval = 0112, geval = 112\n",
      "iter = 112, obj = 5.09e-05, rnorm = 1.01e-02, gnorm = 1.84e-02, feval = 0113, geval = 113\n",
      "iter = 113, obj = 5.04e-05, rnorm = 1.00e-02, gnorm = 1.92e-02, feval = 0114, geval = 114\n",
      "iter = 114, obj = 5.00e-05, rnorm = 1.00e-02, gnorm = 1.89e-02, feval = 0115, geval = 115\n",
      "iter = 115, obj = 4.95e-05, rnorm = 9.95e-03, gnorm = 1.79e-02, feval = 0116, geval = 116\n",
      "iter = 116, obj = 4.91e-05, rnorm = 9.91e-03, gnorm = 2.08e-02, feval = 0117, geval = 117\n",
      "iter = 117, obj = 4.87e-05, rnorm = 9.87e-03, gnorm = 1.60e-02, feval = 0118, geval = 118\n",
      "iter = 118, obj = 4.79e-05, rnorm = 9.79e-03, gnorm = 2.86e-02, feval = 0119, geval = 119\n",
      "iter = 119, obj = 4.74e-05, rnorm = 9.74e-03, gnorm = 1.46e-02, feval = 0120, geval = 120\n",
      "iter = 120, obj = 3.44e-05, rnorm = 8.29e-03, gnorm = 5.04e-02, feval = 0121, geval = 121\n",
      "iter = 121, obj = 3.33e-05, rnorm = 8.17e-03, gnorm = 1.92e-02, feval = 0122, geval = 122\n",
      "iter = 122, obj = 3.31e-05, rnorm = 8.13e-03, gnorm = 1.23e-02, feval = 0123, geval = 123\n",
      "iter = 123, obj = 3.18e-05, rnorm = 7.97e-03, gnorm = 3.10e-02, feval = 0124, geval = 124\n",
      "iter = 124, obj = 3.13e-05, rnorm = 7.92e-03, gnorm = 1.24e-02, feval = 0125, geval = 125\n",
      "iter = 125, obj = 3.08e-05, rnorm = 7.84e-03, gnorm = 2.45e-02, feval = 0126, geval = 126\n",
      "iter = 126, obj = 3.05e-05, rnorm = 7.80e-03, gnorm = 1.15e-02, feval = 0127, geval = 127\n",
      "iter = 127, obj = 2.76e-05, rnorm = 7.44e-03, gnorm = 4.18e-02, feval = 0128, geval = 128\n",
      "iter = 128, obj = 2.69e-05, rnorm = 7.34e-03, gnorm = 1.47e-02, feval = 0129, geval = 129\n",
      "iter = 129, obj = 2.67e-05, rnorm = 7.31e-03, gnorm = 1.20e-02, feval = 0130, geval = 130\n",
      "iter = 130, obj = 2.64e-05, rnorm = 7.26e-03, gnorm = 1.62e-02, feval = 0131, geval = 131\n",
      "iter = 131, obj = 2.62e-05, rnorm = 7.23e-03, gnorm = 1.10e-02, feval = 0132, geval = 132\n",
      "iter = 132, obj = 2.54e-05, rnorm = 7.13e-03, gnorm = 2.38e-02, feval = 0133, geval = 133\n",
      "iter = 133, obj = 2.51e-05, rnorm = 7.09e-03, gnorm = 1.05e-02, feval = 0134, geval = 134\n",
      "iter = 134, obj = 2.42e-05, rnorm = 6.96e-03, gnorm = 3.27e-02, feval = 0135, geval = 135\n",
      "iter = 135, obj = 2.38e-05, rnorm = 6.90e-03, gnorm = 1.21e-02, feval = 0136, geval = 136\n",
      "iter = 136, obj = 2.36e-05, rnorm = 6.86e-03, gnorm = 1.29e-02, feval = 0137, geval = 137\n",
      "iter = 137, obj = 2.34e-05, rnorm = 6.84e-03, gnorm = 1.17e-02, feval = 0138, geval = 138\n",
      "iter = 138, obj = 2.31e-05, rnorm = 6.80e-03, gnorm = 1.34e-02, feval = 0139, geval = 139\n",
      "iter = 139, obj = 2.30e-05, rnorm = 6.78e-03, gnorm = 1.25e-02, feval = 0140, geval = 140\n",
      "iter = 140, obj = 2.27e-05, rnorm = 6.75e-03, gnorm = 1.36e-02, feval = 0141, geval = 141\n",
      "iter = 141, obj = 2.26e-05, rnorm = 6.72e-03, gnorm = 1.21e-02, feval = 0142, geval = 142\n",
      "iter = 142, obj = 2.24e-05, rnorm = 6.69e-03, gnorm = 1.39e-02, feval = 0143, geval = 143\n",
      "iter = 143, obj = 2.22e-05, rnorm = 6.66e-03, gnorm = 1.16e-02, feval = 0144, geval = 144\n",
      "iter = 144, obj = 2.20e-05, rnorm = 6.63e-03, gnorm = 1.47e-02, feval = 0145, geval = 145\n",
      "iter = 145, obj = 2.18e-05, rnorm = 6.60e-03, gnorm = 1.09e-02, feval = 0146, geval = 146\n",
      "iter = 146, obj = 2.15e-05, rnorm = 6.56e-03, gnorm = 1.63e-02, feval = 0147, geval = 147\n",
      "iter = 147, obj = 2.13e-05, rnorm = 6.53e-03, gnorm = 1.01e-02, feval = 0148, geval = 148\n",
      "iter = 148, obj = 2.09e-05, rnorm = 6.47e-03, gnorm = 2.03e-02, feval = 0149, geval = 149\n",
      "iter = 149, obj = 2.07e-05, rnorm = 6.43e-03, gnorm = 9.31e-03, feval = 0150, geval = 150\n",
      "iter = 150, obj = 1.86e-05, rnorm = 6.10e-03, gnorm = 4.17e-02, feval = 0151, geval = 151\n",
      "iter = 151, obj = 1.79e-05, rnorm = 5.98e-03, gnorm = 1.00e-02, feval = 0152, geval = 152\n",
      "iter = 152, obj = 1.77e-05, rnorm = 5.95e-03, gnorm = 1.43e-02, feval = 0153, geval = 153\n",
      "iter = 153, obj = 1.75e-05, rnorm = 5.92e-03, gnorm = 9.54e-03, feval = 0154, geval = 154\n",
      "iter = 154, obj = 1.73e-05, rnorm = 5.89e-03, gnorm = 1.56e-02, feval = 0155, geval = 155\n",
      "iter = 155, obj = 1.72e-05, rnorm = 5.86e-03, gnorm = 9.03e-03, feval = 0156, geval = 156\n",
      "iter = 156, obj = 1.69e-05, rnorm = 5.82e-03, gnorm = 1.83e-02, feval = 0157, geval = 157\n",
      "iter = 157, obj = 1.67e-05, rnorm = 5.79e-03, gnorm = 8.46e-03, feval = 0158, geval = 158\n",
      "iter = 158, obj = 1.63e-05, rnorm = 5.71e-03, gnorm = 2.58e-02, feval = 0159, geval = 159\n",
      "iter = 159, obj = 1.60e-05, rnorm = 5.65e-03, gnorm = 7.91e-03, feval = 0160, geval = 160\n",
      "iter = 160, obj = 9.17e-06, rnorm = 4.28e-03, gnorm = 5.42e-02, feval = 0161, geval = 161\n",
      "iter = 161, obj = 7.97e-06, rnorm = 3.99e-03, gnorm = 1.07e-02, feval = 0162, geval = 162\n",
      "iter = 162, obj = 7.91e-06, rnorm = 3.98e-03, gnorm = 5.18e-03, feval = 0163, geval = 163\n",
      "iter = 163, obj = 6.18e-06, rnorm = 3.51e-03, gnorm = 6.46e-03, feval = 0164, geval = 164\n",
      "iter = 164, obj = 6.13e-06, rnorm = 3.50e-03, gnorm = 5.85e-03, feval = 0165, geval = 165\n",
      "iter = 165, obj = 6.10e-06, rnorm = 3.49e-03, gnorm = 4.70e-03, feval = 0166, geval = 166\n",
      "iter = 166, obj = 6.01e-06, rnorm = 3.47e-03, gnorm = 7.46e-03, feval = 0167, geval = 167\n",
      "iter = 167, obj = 5.98e-06, rnorm = 3.46e-03, gnorm = 4.37e-03, feval = 0168, geval = 168\n",
      "iter = 168, obj = 5.36e-06, rnorm = 3.27e-03, gnorm = 2.68e-02, feval = 0169, geval = 169\n",
      "iter = 169, obj = 5.11e-06, rnorm = 3.20e-03, gnorm = 1.13e-02, feval = 0170, geval = 170\n",
      "iter = 170, obj = 5.05e-06, rnorm = 3.18e-03, gnorm = 5.24e-03, feval = 0171, geval = 171\n",
      "iter = 171, obj = 5.03e-06, rnorm = 3.17e-03, gnorm = 4.04e-03, feval = 0172, geval = 172\n",
      "iter = 172, obj = 4.93e-06, rnorm = 3.14e-03, gnorm = 9.31e-03, feval = 0173, geval = 173\n",
      "iter = 173, obj = 4.89e-06, rnorm = 3.13e-03, gnorm = 4.68e-03, feval = 0174, geval = 174\n",
      "iter = 174, obj = 4.86e-06, rnorm = 3.12e-03, gnorm = 4.30e-03, feval = 0175, geval = 175\n",
      "iter = 175, obj = 4.82e-06, rnorm = 3.11e-03, gnorm = 5.37e-03, feval = 0176, geval = 176\n",
      "iter = 176, obj = 4.80e-06, rnorm = 3.10e-03, gnorm = 3.82e-03, feval = 0177, geval = 177\n",
      "iter = 177, obj = 4.48e-06, rnorm = 2.99e-03, gnorm = 1.85e-02, feval = 0178, geval = 178\n",
      "iter = 178, obj = 4.36e-06, rnorm = 2.95e-03, gnorm = 8.65e-03, feval = 0179, geval = 179\n",
      "iter = 179, obj = 4.33e-06, rnorm = 2.94e-03, gnorm = 4.25e-03, feval = 0180, geval = 180\n",
      "iter = 180, obj = 4.30e-06, rnorm = 2.93e-03, gnorm = 4.06e-03, feval = 0181, geval = 181\n",
      "iter = 181, obj = 4.27e-06, rnorm = 2.92e-03, gnorm = 4.66e-03, feval = 0182, geval = 182\n",
      "iter = 182, obj = 4.25e-06, rnorm = 2.92e-03, gnorm = 3.61e-03, feval = 0183, geval = 183\n",
      "iter = 183, obj = 4.16e-06, rnorm = 2.89e-03, gnorm = 8.87e-03, feval = 0184, geval = 184\n"
     ]
    },
    {
     "name": "stdout",
     "output_type": "stream",
     "text": [
      "iter = 184, obj = 4.13e-06, rnorm = 2.87e-03, gnorm = 4.44e-03, feval = 0185, geval = 185\n",
      "iter = 185, obj = 4.11e-06, rnorm = 2.87e-03, gnorm = 3.63e-03, feval = 0186, geval = 186\n",
      "iter = 186, obj = 4.06e-06, rnorm = 2.85e-03, gnorm = 6.51e-03, feval = 0187, geval = 187\n",
      "iter = 187, obj = 4.04e-06, rnorm = 2.84e-03, gnorm = 3.62e-03, feval = 0188, geval = 188\n",
      "iter = 188, obj = 3.98e-06, rnorm = 2.82e-03, gnorm = 5.49e-03, feval = 0189, geval = 189\n",
      "iter = 189, obj = 3.96e-06, rnorm = 2.82e-03, gnorm = 3.34e-03, feval = 0190, geval = 190\n",
      "iter = 190, obj = 2.62e-06, rnorm = 2.29e-03, gnorm = 3.61e-02, feval = 0191, geval = 191\n",
      "iter = 191, obj = 2.18e-06, rnorm = 2.09e-03, gnorm = 1.63e-02, feval = 0192, geval = 192\n",
      "iter = 192, obj = 2.09e-06, rnorm = 2.04e-03, gnorm = 6.65e-03, feval = 0193, geval = 193\n",
      "iter = 193, obj = 2.07e-06, rnorm = 2.03e-03, gnorm = 3.00e-03, feval = 0194, geval = 194\n",
      "iter = 194, obj = 2.06e-06, rnorm = 2.03e-03, gnorm = 2.35e-03, feval = 0195, geval = 195\n",
      "iter = 195, obj = 2.05e-06, rnorm = 2.02e-03, gnorm = 3.27e-03, feval = 0196, geval = 196\n",
      "iter = 196, obj = 2.04e-06, rnorm = 2.02e-03, gnorm = 2.12e-03, feval = 0197, geval = 197\n",
      "iter = 197, obj = 1.97e-06, rnorm = 1.99e-03, gnorm = 6.51e-03, feval = 0198, geval = 198\n",
      "iter = 198, obj = 1.95e-06, rnorm = 1.98e-03, gnorm = 3.07e-03, feval = 0199, geval = 199\n",
      "iter = 199, obj = 1.95e-06, rnorm = 1.97e-03, gnorm = 2.19e-03, feval = 0200, geval = 200\n",
      "iter = 200, obj = 1.93e-06, rnorm = 1.96e-03, gnorm = 3.89e-03, feval = 0201, geval = 201\n",
      "iter = 201, obj = 1.92e-06, rnorm = 1.96e-03, gnorm = 2.01e-03, feval = 0202, geval = 202\n",
      "iter = 202, obj = 1.49e-06, rnorm = 1.73e-03, gnorm = 6.50e-03, feval = 0203, geval = 203\n",
      "iter = 203, obj = 1.48e-06, rnorm = 1.72e-03, gnorm = 2.57e-03, feval = 0204, geval = 204\n",
      "iter = 204, obj = 1.47e-06, rnorm = 1.71e-03, gnorm = 1.66e-03, feval = 0205, geval = 205\n",
      "iter = 205, obj = 7.78e-07, rnorm = 1.25e-03, gnorm = 5.80e-03, feval = 0206, geval = 206\n",
      "iter = 206, obj = 7.65e-07, rnorm = 1.24e-03, gnorm = 2.49e-03, feval = 0207, geval = 207\n",
      "iter = 207, obj = 7.63e-07, rnorm = 1.24e-03, gnorm = 1.28e-03, feval = 0208, geval = 208\n",
      "iter = 208, obj = 7.61e-07, rnorm = 1.23e-03, gnorm = 1.08e-03, feval = 0209, geval = 209\n",
      "iter = 209, obj = 7.57e-07, rnorm = 1.23e-03, gnorm = 1.20e-03, feval = 0210, geval = 210\n",
      "iter = 210, obj = 7.55e-07, rnorm = 1.23e-03, gnorm = 1.14e-03, feval = 0211, geval = 211\n",
      "iter = 211, obj = 7.53e-07, rnorm = 1.23e-03, gnorm = 1.12e-03, feval = 0212, geval = 212\n",
      "iter = 212, obj = 7.50e-07, rnorm = 1.22e-03, gnorm = 1.37e-03, feval = 0213, geval = 213\n",
      "iter = 213, obj = 7.48e-07, rnorm = 1.22e-03, gnorm = 9.86e-04, feval = 0214, geval = 214\n",
      "iter = 214, obj = 6.26e-07, rnorm = 1.12e-03, gnorm = 7.73e-03, feval = 0215, geval = 215\n",
      "iter = 215, obj = 6.10e-07, rnorm = 1.10e-03, gnorm = 4.75e-03, feval = 0216, geval = 216\n",
      "iter = 216, obj = 6.02e-07, rnorm = 1.10e-03, gnorm = 2.09e-03, feval = 0217, geval = 217\n",
      "iter = 217, obj = 6.00e-07, rnorm = 1.10e-03, gnorm = 1.06e-03, feval = 0218, geval = 218\n",
      "iter = 218, obj = 5.99e-07, rnorm = 1.09e-03, gnorm = 9.37e-04, feval = 0219, geval = 219\n",
      "iter = 219, obj = 5.97e-07, rnorm = 1.09e-03, gnorm = 1.12e-03, feval = 0220, geval = 220\n",
      "iter = 220, obj = 5.95e-07, rnorm = 1.09e-03, gnorm = 8.40e-04, feval = 0221, geval = 221\n",
      "iter = 221, obj = 5.80e-07, rnorm = 1.08e-03, gnorm = 3.24e-03, feval = 0222, geval = 222\n",
      "iter = 222, obj = 5.76e-07, rnorm = 1.07e-03, gnorm = 1.40e-03, feval = 0223, geval = 223\n",
      "iter = 223, obj = 5.75e-07, rnorm = 1.07e-03, gnorm = 8.17e-04, feval = 0224, geval = 224\n",
      "iter = 224, obj = 5.40e-07, rnorm = 1.04e-03, gnorm = 1.59e-03, feval = 0225, geval = 225\n",
      "iter = 225, obj = 5.32e-07, rnorm = 1.03e-03, gnorm = 1.20e-03, feval = 0226, geval = 226\n",
      "iter = 226, obj = 5.31e-07, rnorm = 1.03e-03, gnorm = 7.84e-04, feval = 0227, geval = 227\n",
      "iter = 227, obj = 5.18e-07, rnorm = 1.02e-03, gnorm = 2.23e-03, feval = 0228, geval = 228\n",
      "iter = 228, obj = 5.15e-07, rnorm = 1.02e-03, gnorm = 1.06e-03, feval = 0229, geval = 229\n",
      "iter = 229, obj = 5.14e-07, rnorm = 1.01e-03, gnorm = 8.63e-04, feval = 0230, geval = 230\n",
      "iter = 230, obj = 5.12e-07, rnorm = 1.01e-03, gnorm = 1.20e-03, feval = 0231, geval = 231\n",
      "iter = 231, obj = 5.11e-07, rnorm = 1.01e-03, gnorm = 7.35e-04, feval = 0232, geval = 232\n",
      "iter = 232, obj = 4.50e-07, rnorm = 9.49e-04, gnorm = 5.27e-03, feval = 0233, geval = 233\n",
      "iter = 233, obj = 4.39e-07, rnorm = 9.37e-04, gnorm = 2.09e-03, feval = 0234, geval = 234\n",
      "iter = 234, obj = 4.35e-07, rnorm = 9.33e-04, gnorm = 1.36e-03, feval = 0235, geval = 235\n",
      "iter = 235, obj = 4.31e-07, rnorm = 9.28e-04, gnorm = 1.62e-03, feval = 0236, geval = 236\n",
      "iter = 236, obj = 4.30e-07, rnorm = 9.27e-04, gnorm = 6.73e-04, feval = 0237, geval = 237\n",
      "iter = 237, obj = 4.15e-07, rnorm = 9.11e-04, gnorm = 1.64e-03, feval = 0238, geval = 238\n",
      "iter = 238, obj = 4.12e-07, rnorm = 9.08e-04, gnorm = 1.13e-03, feval = 0239, geval = 239\n",
      "iter = 239, obj = 4.10e-07, rnorm = 9.06e-04, gnorm = 1.22e-03, feval = 0240, geval = 240\n",
      "iter = 240, obj = 4.09e-07, rnorm = 9.04e-04, gnorm = 6.99e-04, feval = 0241, geval = 241\n",
      "iter = 241, obj = 4.05e-07, rnorm = 9.01e-04, gnorm = 1.56e-03, feval = 0242, geval = 242\n",
      "iter = 242, obj = 4.04e-07, rnorm = 8.99e-04, gnorm = 6.29e-04, feval = 0243, geval = 243\n",
      "iter = 243, obj = 3.89e-07, rnorm = 8.82e-04, gnorm = 2.74e-03, feval = 0244, geval = 244\n",
      "iter = 244, obj = 3.85e-07, rnorm = 8.77e-04, gnorm = 1.11e-03, feval = 0245, geval = 245\n",
      "iter = 245, obj = 3.80e-07, rnorm = 8.72e-04, gnorm = 1.03e-03, feval = 0246, geval = 246\n",
      "iter = 246, obj = 3.80e-07, rnorm = 8.71e-04, gnorm = 6.20e-04, feval = 0247, geval = 247\n",
      "iter = 247, obj = 3.78e-07, rnorm = 8.69e-04, gnorm = 1.28e-03, feval = 0248, geval = 248\n",
      "iter = 248, obj = 3.77e-07, rnorm = 8.68e-04, gnorm = 5.76e-04, feval = 0249, geval = 249\n",
      "iter = 249, obj = 3.69e-07, rnorm = 8.59e-04, gnorm = 2.69e-03, feval = 0250, geval = 250\n",
      "iter = 250, obj = 3.66e-07, rnorm = 8.56e-04, gnorm = 6.85e-04, feval = 0251, geval = 251\n",
      "Terminate: maximum number of iterations reached\n",
      "\n",
      "##########################################################################################\n",
      "            L-BFGS-B Solver end\n",
      "##########################################################################################\n",
      "\n"
     ]
    }
   ],
   "source": [
    "BFGSBsolver.run(L2_tt_prob, verbose=True)"
   ]
  },
  {
   "cell_type": "markdown",
   "id": "turned-place",
   "metadata": {},
   "source": [
    "Let's see if the inversion was able to retrieve the Gaussian anomaly."
   ]
  },
  {
   "cell_type": "code",
   "execution_count": 19,
   "id": "adult-veteran",
   "metadata": {},
   "outputs": [
    {
     "data": {
      "image/png": "[encoded data removed]",
      "text/plain": [
       "<Figure size 720x432 with 1 Axes>"
      ]
     },
     "metadata": {
      "needs_background": "light"
     },
     "output_type": "display_data"
    }
   ],
   "source": [
    "fig, ax = plt.subplots()\n",
    "ax.plot(x, vv.plot(), lw=4, label=\"True\")\n",
    "ax.plot(x, vv_init.plot(), c=\"red\", ls=\"--\", lw=4, label=\"Initial\")\n",
    "ax.plot(x, L2_tt_prob.model.plot(), c=\"black\", ls=\":\", lw=4, label=\"Inverted\")\n",
    "ax.set_xlabel(\"x [km]\"), ax.set_ylabel(vv.ax_info[0].l)\n",
    "ax.set_xlim(0,30), ax.set_ylim(1,2.5)\n",
    "ax.legend()\n",
    "plt.tight_layout()\n",
    "plt.show()"
   ]
  },
  {
   "cell_type": "code",
   "execution_count": null,
   "id": "11350c9f",
   "metadata": {},
   "outputs": [],
   "source": []
  }
 ],
 "metadata": {
  "kernelspec": {
   "display_name": "Python 3 (ipykernel)",
   "language": "python",
   "name": "python3"
  },
  "language_info": {
   "codemirror_mode": {
    "name": "ipython",
    "version": 3
   },
   "file_extension": ".py",
   "mimetype": "text/x-python",
   "name": "python",
   "nbconvert_exporter": "python",
   "pygments_lexer": "ipython3",
   "version": "3.10.4"
  }
 },
 "nbformat": 4,
 "nbformat_minor": 5
}
