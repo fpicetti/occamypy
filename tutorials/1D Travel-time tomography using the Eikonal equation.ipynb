{
 "cells": [
  {
   "cell_type": "markdown",
   "id": "emerging-diagram",
   "metadata": {},
   "source": [
    "# Traveltime tomography using the Eikonal equation\n",
    "\n",
    "@Author: Ettore Biondi - ebiondi@caltech.edu"
   ]
  },
  {
   "cell_type": "markdown",
   "id": "level-cargo",
   "metadata": {},
   "source": [
    "In this notebook, we provide an example of how to solve a traveltime tomography problem using the solution to the Eikonal equation. This equation can be written as follows:\n",
    "\\begin{eqnarray}\n",
    "\\nabla \\tau(\\mathbf{x}) \\cdot \\nabla \\tau(\\mathbf{x})= \\|\\nabla \\tau(\\mathbf{x})\\|^2 = \\frac{1}{v^2(\\mathbf{x})},\n",
    "\\end{eqnarray}\n",
    "where $v$ is the wave speed, $\\tau$ is the traveltime, and $\\mathbf{x}$ denotes the spatial variables (i.e., $x$, $y$, and $z$). To solve the previous partial-differential equation (PDE), we employ the fast-marching method described by [Sethian (1996)](https://www.pnas.org/content/pnas/93/4/1591.full.pdf). The solution of the Eikonal equation depends non-linearly on the velocity parameter $v$. Hence, we express its discrete solution as follows:\n",
    "\\begin{eqnarray}\n",
    "\\pmb{\\tau} = \\mathbf{f}(\\mathbf{v}).\n",
    "\\end{eqnarray}\n",
    "The Jacobian $\\mathbf{F}$ of the non-linear operator $\\mathbf{f}$ obeys the following equation:\n",
    "\\begin{eqnarray}\n",
    "2[\\nabla \\tau(\\mathbf{x})] \\cdot [\\nabla \\delta\\tau(\\mathbf{x})] = \\delta v(\\mathbf{x}),\n",
    "\\end{eqnarray}\n",
    "where $\\delta\\tau$ represents the traveltime perturbation due to the velocity perturbation $\\delta v(\\mathbf{x})$. The previous relation when discretized represents a linear system of equations that can be solved by forward substitution [Li et al. (2013)](https://pi.math.cornell.edu/~vlad/papers/DSR_Geophysics_2013.pdf). "
   ]
  },
  {
   "cell_type": "code",
   "execution_count": 1,
   "id": "formed-greene",
   "metadata": {},
   "outputs": [
    {
     "name": "stdout",
     "output_type": "stream",
     "text": [
      "WARNING! DATAPATH not found. The folder /tmp will be used to write binary files\n"
     ]
    },
    {
     "name": "stderr",
     "output_type": "stream",
     "text": [
      "/Users/francesco/miniconda3/envs/occd/lib/python3.8/site-packages/dask_jobqueue/core.py:20: FutureWarning: tmpfile is deprecated and will be removed in a future release. Please use dask.utils.tmpfile instead.\n",
      "  from distributed.utils import tmpfile\n"
     ]
    }
   ],
   "source": [
    "import numpy as np\n",
    "import occamypy as o\n",
    "\n",
    "# Plotting\n",
    "from matplotlib import rcParams\n",
    "from mpl_toolkits.axes_grid1 import make_axes_locatable\n",
    "import matplotlib.pyplot as plt\n",
    "rcParams.update({\n",
    "    'image.cmap'     : 'jet',\n",
    "    'image.aspect'   : 'auto',\n",
    "    'image.interpolation': None,\n",
    "    'axes.grid'      : True,\n",
    "    'figure.figsize' : (10, 6),\n",
    "    'savefig.dpi'    : 300,\n",
    "    'axes.labelsize' : 14,\n",
    "    'axes.titlesize' : 16,\n",
    "    'font.size'      : 14,\n",
    "    'legend.fontsize': 14,\n",
    "    'xtick.labelsize': 14,\n",
    "    'ytick.labelsize': 14,\n",
    "    'text.usetex'    : True,\n",
    "    'font.family'    : 'serif',\n",
    "    'font.serif'     : 'Latin Modern Roman',\n",
    "})"
   ]
  },
  {
   "cell_type": "markdown",
   "id": "legitimate-association",
   "metadata": {},
   "source": [
    "Let's start by implementing the fast-marching method to solve the non-linear PDE defined by the Eikonal equation."
   ]
  },
  {
   "cell_type": "code",
   "execution_count": 2,
   "id": "finnish-resolution",
   "metadata": {},
   "outputs": [],
   "source": [
    "# Functions for solving Eikonal equation in 1D\n",
    "def sorting(tt, idx, ordering=\"a\"):\n",
    "    if ordering == \"a\":\n",
    "        sorted_indices = np.argsort(tt[idx])\n",
    "    elif ordering == \"d\":\n",
    "        sorted_indices = np.argsort(-tt[idx])\n",
    "    else:\n",
    "        raise ValueError(\"Unknonw ordering: %s! Provide a or d for ascending or descending\" % ordering)\n",
    "    \n",
    "    # Sorting indices\n",
    "    idx_sort = [idx[id] for id in sorted_indices]\n",
    "    return idx_sort\n",
    "\n",
    "\n",
    "# Fast-Marching-Method (FMM) \n",
    "def FMM_tt(tt, vv, dx, status, trial_idx):\n",
    "    \"\"\"Function to perform fast-marching method\"\"\"\n",
    "    nx = vv.shape[0]\n",
    "    dx_inv = 1.0 / dx\n",
    "    # Various necessary variables\n",
    "    drxns = [-1, 1]\n",
    "    nbrs = np.zeros(2, dtype=int)\n",
    "    # FFM main loop\n",
    "    while len(trial_idx) > 0:\n",
    "        # Getting trial point with smallest traveltime\n",
    "        active_idx = trial_idx.pop(0)\n",
    "        status[active_idx] = 'k'\n",
    "\n",
    "        # Creating indices of neighbouring points\n",
    "        for idx in range(2):\n",
    "            nbrs[idx] = active_idx + drxns[idx]\n",
    "\n",
    "        # Loop over neighbourning points\n",
    "        for idx, nb in enumerate(nbrs):\n",
    "            # If point is outside the domain or has a known traveltime skip it\n",
    "            if nb < 0 or nb >= nx or status[nb] == 'k':\n",
    "                continue\n",
    "            # Checking if the velocity model is positive\n",
    "            if vv[nb] > 0:\n",
    "                fdt = np.zeros(2)\n",
    "                order = np.zeros(2)\n",
    "                # Computing forward and backward derivatives from nb\n",
    "                for ii in range(2):\n",
    "                    nb_i = nb + drxns[ii]\n",
    "                    if (nb_i < nx and 0 <= nb_i) and status[nb_i] == 'k':\n",
    "                        order[ii] = 1\n",
    "                        fdt[ii] = drxns[ii] * (tt[nb_i]-tt[nb]) * dx_inv\n",
    "                    else:\n",
    "                        order[ii] = 0\n",
    "                # Selecting upwind derivative \n",
    "                if fdt[0] > -fdt[1]:\n",
    "                    ii, idrx = 0, -1\n",
    "                else:\n",
    "                    ii, idrx = 1, 1\n",
    "                # Selecting correct neighbourning point\n",
    "                nb_i = nb + idrx\n",
    "                # Updating traveltime by solving quadratic equation\n",
    "                if order[ii] == 0:\n",
    "                    a = b = c = 0\n",
    "                else:\n",
    "                    a = dx_inv * dx_inv\n",
    "                    b = -2 * a * tt[nb_i]\n",
    "                    c = tt[nb_i] * tt[nb_i] * a - 1.0 / (vv[nb]*vv[nb])\n",
    "                # Point out of bounds\n",
    "                if a == 0:\n",
    "                    continue\n",
    "                det = b*b - 4.0*a*c\n",
    "                if det < 0.0:\n",
    "                    # Negative determinant; set it to zero\n",
    "                    new_t = - b / (2 * a)\n",
    "                else:\n",
    "                    new_t = (- b + np.sqrt(det)) / (2*a)\n",
    "                # Checking if new traveltime is smaller than current estimate for this point\n",
    "                if new_t < tt[nb]:\n",
    "                    tt[nb] = new_t\n",
    "                    if status[nb] == 'u':\n",
    "                        trial_idx.append(nb)\n",
    "                        status[nb] = 't'\n",
    "                    else:\n",
    "                        trial_idx = sorting(tt, trial_idx)\n",
    "    return"
   ]
  },
  {
   "cell_type": "markdown",
   "id": "controlling-peninsula",
   "metadata": {},
   "source": [
    "Let's wrap this function into an operator class."
   ]
  },
  {
   "cell_type": "code",
   "execution_count": 3,
   "id": "based-figure",
   "metadata": {},
   "outputs": [],
   "source": [
    "class EikonalTT_1D(o.Operator):\n",
    "\n",
    "    def __init__(self, vel, tt_data, dx, SouPos, RecPos):\n",
    "        \"\"\"1D Eikonal-equation traveltime prediction operator\"\"\"\n",
    "        # Setting Domain and Range of the operator\n",
    "        self.setDomainRange(vel, tt_data)\n",
    "        # Setting acquisition geometry\n",
    "        self.nSou = SouPos.shape[0]\n",
    "        self.nRec = RecPos.shape[0]\n",
    "        self.SouPos = SouPos.copy()\n",
    "        self.RecPos = RecPos.copy()\n",
    "        dataShape = tt_data.shape\n",
    "        if dataShape[0] != self.nSou:\n",
    "            raise ValueError(\"Number of sources inconsistent with traveltime vector (shape[0])\")\n",
    "        if dataShape[1] != self.nRec:\n",
    "            raise ValueError(\"Number of receivers inconsistent with traveltime vector (shape[1])\")\n",
    "        self.dx = dx\n",
    "        self.nx = vel.shape[0]\n",
    "\n",
    "    def forward(self, add, model, data):\n",
    "        \"\"\"Forward non-linear traveltime prediction\"\"\"\n",
    "        self.checkDomainRange(model, data)\n",
    "        if not add: \n",
    "            data.zero()\n",
    "        dataNd = data.getNdArray()\n",
    "        velNd = model.getNdArray()\n",
    "        # Initialization\n",
    "        tt = np.zeros(self.nx)\n",
    "        for iShot in range(self.nSou):\n",
    "            # Initial conditions\n",
    "            status = np.array([\"u\"] * self.nx) # All points are unknown\n",
    "            tt.fill(np.inf)\n",
    "            trial_idx = []\n",
    "            # Initial conditions\n",
    "            idx = self.SouPos[iShot]\n",
    "            tt[idx] = 0.0\n",
    "            status[idx] = 't' # Trial status\n",
    "            trial_idx.append(idx)\n",
    "            # Sorting trial time ascending order\n",
    "            trial_idx = sorting(tt, trial_idx)\n",
    "            FMM_tt(tt, velNd, self.dx, status, trial_idx)     \n",
    "            for iRec in range(self.nRec):\n",
    "                dataNd[iShot, iRec] += tt[self.RecPos[iRec]]\n",
    "        return"
   ]
  },
  {
   "cell_type": "markdown",
   "id": "surgical-voice",
   "metadata": {},
   "source": [
    "We can now use this operator to compute some traveltimes using a simple velocity model in which a Gaussian anomaly is placed at its center."
   ]
  },
  {
   "cell_type": "code",
   "execution_count": 4,
   "id": "outdoor-minute",
   "metadata": {},
   "outputs": [
    {
     "data": {
      "image/png": "[encoded data removed]",
      "text/plain": [
       "<Figure size 720x432 with 1 Axes>"
      ]
     },
     "metadata": {
      "needs_background": "light"
     },
     "output_type": "display_data"
    }
   ],
   "source": [
    "# Sampling along the z direction\n",
    "dx = 0.1\n",
    "nx = 301\n",
    "x = np.linspace(0,(nx-1)*dx,nx)\n",
    "# Velocity model\n",
    "vv = o.VectorNumpy(np.zeros(nx), ax_info=[o.AxInfo(nx,0.,1.,\"velocity [km/s]\")])\n",
    "vv.set(2.0)\n",
    "vv[:] -= 0.8 * np.exp(-0.5*(x-(nx/2.0)*dx)**2)\n",
    "\n",
    "fig, ax = plt.subplots()\n",
    "ax.plot(x, vv.plot(), lw=4)\n",
    "ax.set_xlabel(\"x [km]\"), ax.set_ylabel(vv.ax_info[0].l)\n",
    "ax.set_xlim(0,30), ax.set_ylim(1,2.5)\n",
    "plt.tight_layout()\n",
    "plt.show()"
   ]
  },
  {
   "cell_type": "markdown",
   "id": "better-wages",
   "metadata": {},
   "source": [
    "Let's compute the traveltime for a single source and receivers at every grid point."
   ]
  },
  {
   "cell_type": "code",
   "execution_count": 5,
   "id": "material-surface",
   "metadata": {},
   "outputs": [
    {
     "data": {
      "image/png": "[encoded data removed]",
      "text/plain": [
       "<Figure size 720x432 with 1 Axes>"
      ]
     },
     "metadata": {
      "needs_background": "light"
     },
     "output_type": "display_data"
    }
   ],
   "source": [
    "# Source/Receiver positions\n",
    "SouPos = np.array([0])\n",
    "RecPos = np.arange(0, nx)\n",
    "\n",
    "# Data vector\n",
    "tt_data = o.VectorNumpy((1, nx)).zero()\n",
    "\n",
    "# Setting Forward non-linear operator\n",
    "Eik1D_Op = EikonalTT_1D(vv, tt_data, dx, SouPos, RecPos)\n",
    "Eik1D_Op.forward(False, vv, tt_data)\n",
    "\n",
    "# Plotting traveltime vector\n",
    "fig, ax = plt.subplots()\n",
    "ax.plot(RecPos * dx, tt_data[0, :], lw=4)\n",
    "ax.set_xlabel(\"x [km]\"), ax.set_ylabel(\"Traveltime [s]\")\n",
    "ax.set_xlim(0,30), ax.set_ylim(0,16)\n",
    "plt.tight_layout()\n",
    "plt.show()"
   ]
  },
  {
   "cell_type": "markdown",
   "id": "interested-powder",
   "metadata": {},
   "source": [
    "Let's implement and test the linearized Eikonal equation operators. Again we first define the functions to solve the forward and adjoint PDEs, and then we wrap it within an operator class."
   ]
  },
  {
   "cell_type": "code",
   "execution_count": 6,
   "id": "stock-terminology",
   "metadata": {},
   "outputs": [],
   "source": [
    "def FMM_tt_lin_fwd(delta_v, delta_tt, vv, tt, dx):\n",
    "    \"\"\"Fast-marching method linearized forward in 1D\"\"\"\n",
    "    nx = delta_v.shape[0]\n",
    "    drxns = [-1, 1]\n",
    "    nbrs = np.zeros(2, dtype=int)\n",
    "    dx_inv = 1.0 / dx\n",
    "    \n",
    "    tt_idx = np.arange(nx)\n",
    "    # Sorting traveltime in ascending order\n",
    "    tt_idx = sorting(tt, tt_idx)\n",
    "    \n",
    "    # Scaling the velocity perturbation\n",
    "    delta_v_scaled = - 2.0 * delta_v / (vv * vv * vv)\n",
    "\n",
    "    # Looping over all indices to solve linear equations from increasing traveltime values\n",
    "    for idx_t0 in tt_idx:\n",
    "        # If T = 0 or v = 0, then assuming zero to avoid singularity\n",
    "        if tt[idx_t0] == 0.0 or vv[idx_t0] == 0.0:\n",
    "            continue\n",
    "        # Creating indices of neighbouring points\n",
    "        for idx in range(2):\n",
    "            nbrs[idx] = idx_t0 + drxns[idx]\n",
    "\n",
    "        # Loop over neighbourning points to find up-wind direction\n",
    "        fdt = np.zeros(2)\n",
    "        order = np.zeros(2, dtype=int)\n",
    "        for idx, nb in enumerate(nbrs):\n",
    "            # If point is outside the domain skip it\n",
    "            if nb < 0 or nb >= nx:\n",
    "                continue\n",
    "            if vv[nb] > 0.0:\n",
    "                order[idx] = 1\n",
    "                fdt[idx] = drxns[idx] * (tt[nb]-tt[idx_t0]) * dx_inv\n",
    "            else:\n",
    "                order[idx] = 0\n",
    "        # Selecting upwind derivative \n",
    "        if fdt[0] > -fdt[1] and order[0] > 0:\n",
    "            ii, idrx = 0, -1\n",
    "        else:\n",
    "            ii, idrx = 1, 1\n",
    "        # Computing t0 space derivative\n",
    "        fdt0 = idrx * (tt[idx_t0 + idrx] - tt[idx_t0]) * dx_inv * dx_inv\n",
    "        delta_tt[idx_t0] += (2.0 * fdt0 * delta_tt[idx_t0 + idrx] - idrx * delta_v_scaled[idx_t0]) / (2.0 * fdt0)\n",
    "    return"
   ]
  },
  {
   "cell_type": "code",
   "execution_count": 7,
   "id": "egyptian-marina",
   "metadata": {},
   "outputs": [],
   "source": [
    "def select_upwind_der(tt, idx_t0, vv, dx_inv):\n",
    "    nbrs = np.zeros(2, dtype=int)\n",
    "    drxns = [-1, 1]\n",
    "    # Creating indices of neighbouring points\n",
    "    for idx in range(2):\n",
    "        nbrs[idx] = idx_t0 + drxns[idx]\n",
    "\n",
    "    # Loop over neighbourning points to find up-wind direction\n",
    "    fdt = np.zeros(2)\n",
    "    order = np.zeros(2, dtype=int)\n",
    "    for idx, nb in enumerate(nbrs):\n",
    "        # If point is outside the domain skip it\n",
    "        if nb < 0 or nb >= nx:\n",
    "            continue\n",
    "        if vv[nb] > 0.0:\n",
    "            order[idx] = 1\n",
    "            fdt[idx] = drxns[idx] * (tt[nb]-tt[idx_t0]) * dx_inv\n",
    "        else:\n",
    "            order[idx] = 0\n",
    "    # Selecting upwind derivative \n",
    "    if fdt[0] > -fdt[1] and order[0] > 0:\n",
    "        idrx = -1\n",
    "    else:\n",
    "        idrx = 1\n",
    "    return idrx, order\n",
    "            \n",
    "def FMM_tt_lin_adj(delta_v, delta_tt, vv, tt, dx):\n",
    "    \"\"\"Fast-marching method linearized adjoint in 1D\"\"\"\n",
    "    nx = delta_v.shape[0]\n",
    "    dx_inv = 1.0 / dx\n",
    "    tt_idx = np.arange(nx)\n",
    "    # Sorting traveltime in descending order\n",
    "    tt_idx = sorting(tt, tt_idx, ordering=\"d\")\n",
    "    \n",
    "    # Looping over all indices to solve linear equations from increasing traveltime values\n",
    "    for idx_t0 in tt_idx:\n",
    "        # Identify the type of row (i.e., central, edge, or initial conditions)\n",
    "        if tt[idx_t0] == 0.0 or vv[idx_t0] == 0.0:\n",
    "            continue\n",
    "        else:\n",
    "            idrx0, order0 = select_upwind_der(tt, idx_t0, vv, dx_inv)\n",
    "            # Computing k0 (derivative coefficient at the current index)\n",
    "            k0 = 2.0 * np.sign(idrx0) * idrx0 * (tt[idx_t0 + idrx0] - tt[idx_t0]) * dx_inv * dx_inv\n",
    "            nb = idx_t0 - idrx0\n",
    "            # Checking if at a boundary\n",
    "            if nb < 0 or nb >= nx:\n",
    "                delta_v[idx_t0] =  delta_tt[idx_t0] / k0\n",
    "            else:\n",
    "                # Computing k1 (derivative coefficient at the forward or backgward index)\n",
    "                idrx1, order1 = select_upwind_der(tt, nb, vv, dx_inv)\n",
    "                k_fb = 2.0 * np.sign(idrx1) * idrx1 * (tt[nb + idrx1] - tt[nb]) * dx_inv * dx_inv\n",
    "                delta_v[idx_t0] += (delta_tt[idx_t0] + k_fb * delta_v[nb]) / k0\n",
    "            \n",
    "    # Scaling the velocity perturbation\n",
    "    delta_v[:] = 2.0 * delta_v / (vv * vv * vv)\n",
    "    return"
   ]
  },
  {
   "cell_type": "code",
   "execution_count": 8,
   "id": "preceding-burns",
   "metadata": {},
   "outputs": [],
   "source": [
    "class EikonalTT_lin_1D(o.Operator):\n",
    "\n",
    "    def __init__(self, vel, tt_data, dx, SouPos, RecPos):\n",
    "        \"\"\"1D Eikonal-equation traveltime prediction operator\"\"\"\n",
    "        # Setting Domain and Range of the operator\n",
    "        super(EikonalTT_lin_1D, self).__init__(domain=vel, range=tt_data)\n",
    "        # Setting acquisition geometry\n",
    "        self.nSou = SouPos.shape[0]\n",
    "        self.nRec = RecPos.shape[0]\n",
    "        self.SouPos = SouPos.copy()\n",
    "        self.RecPos = RecPos.copy()\n",
    "        dataShape = tt_data.shape\n",
    "        if dataShape[0] != self.nSou:\n",
    "            raise ValueError(\"Number of sources inconsistent with traveltime vector (shape[0])\")\n",
    "        if dataShape[1] != self.nRec:\n",
    "            raise ValueError(\"Number of receivers inconsistent with traveltime vector (shape[1])\")\n",
    "        self.dx = dx\n",
    "        self.nx = vel.shape[0]\n",
    "        # Background model\n",
    "        self.vel = vel.clone()\n",
    "        self.vel.copy(vel)\n",
    "\n",
    "    def forward(self, add, model, data):\n",
    "        \"\"\"Forward linearized traveltime prediction\"\"\"\n",
    "        self.checkDomainRange(model, data)\n",
    "        if not add: \n",
    "            data.zero()\n",
    "        dataNd = data.getNdArray()\n",
    "        modelNd = model.getNdArray()\n",
    "        vel0Nd = self.vel.getNdArray()\n",
    "        # Initialization\n",
    "        tt0 = np.zeros(self.nx)\n",
    "        for iShot in range(self.nSou):\n",
    "            ###################################\n",
    "            # Computing background traveltime #\n",
    "            ###################################\n",
    "            # Initial conditions\n",
    "            status = np.array([\"u\"] * self.nx) # All points are unknown\n",
    "            tt0.fill(np.inf)\n",
    "            trial_idx = []\n",
    "            # Initial conditions\n",
    "            idx = self.SouPos[iShot]\n",
    "            tt0[idx] = 0.0\n",
    "            status[idx] = 't' # Trial status\n",
    "            trial_idx.append(idx)\n",
    "            # Sorting trial time ascending order\n",
    "            trial_idx = sorting(tt0, trial_idx)\n",
    "            FMM_tt(tt0, vel0Nd, self.dx, status, trial_idx) \n",
    "            ###################################\n",
    "            # Computing linearized traveltime #\n",
    "            ###################################\n",
    "            delta_tt = np.zeros(self.nx)\n",
    "            FMM_tt_lin_fwd(modelNd, delta_tt, vel0Nd, tt0, self.dx)\n",
    "            for iRec in range(self.nRec):\n",
    "                dataNd[iShot, iRec] += delta_tt[self.RecPos[iRec]]\n",
    "        return\n",
    "    \n",
    "    def adjoint(self, add, model, data):\n",
    "        \"\"\"Adjoint linearized traveltime prediction\"\"\"\n",
    "        self.checkDomainRange(model, data)\n",
    "        if not add: \n",
    "            model.zero()\n",
    "        dataNd = data.getNdArray()\n",
    "        modelNd = model.getNdArray()\n",
    "        vel0Nd = self.vel.getNdArray()\n",
    "        # Initialization\n",
    "        tt0 = np.zeros(self.nx)\n",
    "        for iShot in range(self.nSou):\n",
    "            ###################################\n",
    "            # Computing background traveltime #\n",
    "            ###################################\n",
    "            # Initial conditions\n",
    "            status = np.array([\"u\"] * self.nx) # All points are unknown\n",
    "            tt0.fill(np.inf)\n",
    "            trial_idx = []\n",
    "            # Initial conditions\n",
    "            idx = self.SouPos[iShot]\n",
    "            tt0[idx] = 0.0\n",
    "            status[idx] = 't' # Trial status\n",
    "            trial_idx.append(idx)\n",
    "            # Sorting trial time ascending order\n",
    "            trial_idx = sorting(tt0, trial_idx)\n",
    "            FMM_tt(tt0, vel0Nd, self.dx, status, trial_idx) \n",
    "            ###################################\n",
    "            # Computing velocity perturbation #\n",
    "            ###################################\n",
    "            delta_tt = np.zeros(self.nx)\n",
    "            delta_v = np.zeros(self.nx)\n",
    "            # Injecting traveltime to correct grid positions\n",
    "            for iRec in range(self.nRec):\n",
    "                delta_tt[self.RecPos[iRec]] = dataNd[iShot, iRec]\n",
    "            FMM_tt_lin_adj(delta_v, delta_tt, vel0Nd, tt0, self.dx)\n",
    "            modelNd[:] += delta_v\n",
    "        return\n",
    "    \n",
    "    def set_vel(self, vel):\n",
    "        \"\"\"Function to set background velocity model\"\"\"\n",
    "        self.vel.copy(vel)"
   ]
  },
  {
   "cell_type": "markdown",
   "id": "retained-release",
   "metadata": {},
   "source": [
    "Let's start by testing the adjointness of the forward and adjoint methods."
   ]
  },
  {
   "cell_type": "code",
   "execution_count": 9,
   "id": "appreciated-nightlife",
   "metadata": {},
   "outputs": [
    {
     "name": "stdout",
     "output_type": "stream",
     "text": [
      "Dot-product tests of forward and adjoint operators\n",
      "--------------------------------------------------\n",
      "Applying forward operator add=False\n",
      " Runs in: 0.006552934646606445 seconds\n",
      "Applying adjoint operator add=False\n",
      " Runs in: 0.011036157608032227 seconds\n",
      "Dot products add=False: domain=3.609152e+00 range=3.609152e+00 \n",
      "Absolute error: 0.000000e+00\n",
      "Relative error: 0.000000e+00 \n",
      "\n",
      "Applying forward operator add=True\n",
      " Runs in: 0.006378889083862305 seconds\n",
      "Applying adjoint operator add=True\n",
      " Runs in: 0.011970996856689453 seconds\n",
      "Dot products add=True: domain=7.218303e+00 range=7.218303e+00 \n",
      "Absolute error: 0.000000e+00\n",
      "Relative error: 0.000000e+00 \n",
      "\n",
      "-------------------------------------------------\n"
     ]
    }
   ],
   "source": [
    "# Dot-product test for the linearized Eikonal equation in 1D\n",
    "Eik1D_Lin_Op = EikonalTT_lin_1D(vv, tt_data, dx, SouPos, RecPos)\n",
    "Eik1D_Lin_Op.dotTest(True)"
   ]
  },
  {
   "cell_type": "markdown",
   "id": "colonial-luxury",
   "metadata": {},
   "source": [
    "The linearization error of the linearized Eikonal operator $\\mathbf{F}$ should follow:\n",
    "\\begin{eqnarray}\n",
    "e = \\|\\mathbf{f}(\\mathbf{v}+\\alpha\\Delta\\mathbf{v})-\\mathbf{f}(\\mathbf{v})-\\alpha\\mathbf{F}(\\mathbf{v})\\Delta\\mathbf{v}\\|_2=\\mathcal{O}(\\alpha^2) \\;\\rm{as}\\; \\alpha \\to 0,\n",
    "\\end{eqnarray}\n",
    "where $\\alpha$ is the scale associated with the velocity perturbation $\\Delta\\mathbf{v}$. Let's test if this is the case for our operator."
   ]
  },
  {
   "cell_type": "code",
   "execution_count": 10,
   "id": "elementary-nursing",
   "metadata": {},
   "outputs": [
    {
     "data": {
      "image/png": "[encoded data removed]",
      "text/plain": [
       "<Figure size 720x432 with 1 Axes>"
      ]
     },
     "metadata": {
      "needs_background": "light"
     },
     "output_type": "display_data"
    }
   ],
   "source": [
    "Eik1D_NlOp = o.NonlinearOperator(Eik1D_Op, Eik1D_Lin_Op, Eik1D_Lin_Op.set_vel)\n",
    "alpha, err = Eik1D_NlOp.linTest(vv)\n",
    "M = err[0]/(alpha[0]*alpha[0])\n",
    "\n",
    "fig, ax = plt.subplots()\n",
    "ax.loglog(alpha,err, lw=4, label=\"Computed error\")\n",
    "ax.loglog(alpha,M*alpha*alpha, lw=3, ls=\"--\", label=\"Theoretical bound\")\n",
    "\n",
    "ax.set_xlabel(r\"$\\alpha$\"), ax.set_ylabel(\"e [s]\")\n",
    "ax.set_xlim(1e-6,1)\n",
    "ax.legend()\n",
    "\n",
    "plt.tight_layout()\n",
    "plt.show()"
   ]
  },
  {
   "cell_type": "markdown",
   "id": "white-marijuana",
   "metadata": {},
   "source": [
    "## Eikonal traveltime tomography "
   ]
  },
  {
   "cell_type": "markdown",
   "id": "southeast-medication",
   "metadata": {},
   "source": [
    "Now that we are confident that our operators are working properly, we can set up an inversion problem. We are going to solve a bounded non-linear L2-norm problem defined as follows:\n",
    "\\begin{equation}\n",
    "\\phi(\\mathbf{v}) = \\frac{1}{2}\\|\\mathbf{f}(\\mathbf{v}) - \\pmb{\\tau}_{obs}\\|_2^2,\\\\\n",
    "\\text{s.t.} \\; \\mathbf{v}_{l} \\leq \\mathbf{v} \\leq \\mathbf{v}_{u}\n",
    "\\end{equation}"
   ]
  },
  {
   "cell_type": "code",
   "execution_count": 11,
   "id": "angry-columbia",
   "metadata": {},
   "outputs": [],
   "source": [
    "# Source/Receiver positions\n",
    "SouPos = np.arange(0, nx, 150)\n",
    "RecPos = np.arange(0, nx, 10)\n",
    "\n",
    "# Data vector\n",
    "tt_data = o.VectorNumpy((SouPos.shape[0], RecPos.shape[0])).zero()\n",
    "\n",
    "# Instantiating non-linear operator\n",
    "Eik1D_Op = EikonalTT_1D(vv, tt_data, dx, SouPos, RecPos)\n",
    "Eik1D_Op.forward(False, vv, tt_data)\n",
    "Eik1D_Lin_Op = EikonalTT_lin_1D(vv, tt_data, dx, SouPos, RecPos)\n",
    "Eik1D_NlOp = o.NonlinearOperator(Eik1D_Op, Eik1D_Lin_Op, Eik1D_Lin_Op.set_vel)"
   ]
  },
  {
   "cell_type": "markdown",
   "id": "coupled-check",
   "metadata": {},
   "source": [
    "Let's generated the observed data using 3 sources and receivers every 1 km."
   ]
  },
  {
   "cell_type": "code",
   "execution_count": 12,
   "id": "imposed-argentina",
   "metadata": {},
   "outputs": [],
   "source": [
    "# Creating observed data\n",
    "Eik1D_Op.forward(False, vv, tt_data)\n",
    "tt_data_obs = tt_data.clone()"
   ]
  },
  {
   "cell_type": "code",
   "execution_count": 13,
   "id": "lasting-alberta",
   "metadata": {},
   "outputs": [
    {
     "data": {
      "image/png": "[encoded data removed]",
      "text/plain": [
       "<Figure size 720x432 with 3 Axes>"
      ]
     },
     "metadata": {
      "needs_background": "light"
     },
     "output_type": "display_data"
    }
   ],
   "source": [
    "fig, axs = plt.subplots(1,3, sharey=True)\n",
    "\n",
    "axs[0].scatter(RecPos*dx, tt_data_obs.plot()[0], linewidth=4)\n",
    "axs[0].set_ylabel(\"traveltime [s]\")\n",
    "axs[0].set_xlabel(\"x [km]\")\n",
    "axs[0].set_ylim([0.0, 16.0])\n",
    "axs[0].autoscale(enable=True, axis='x', tight=True)\n",
    "\n",
    "axs[1].scatter(RecPos*dx, tt_data_obs.plot()[1], linewidth=4)\n",
    "axs[1].set_xlabel(\"x [km]\")\n",
    "axs[1].autoscale(enable=True, axis='x', tight=True)\n",
    "\n",
    "axs[2].scatter(RecPos*dx, tt_data_obs.plot()[2], linewidth=4)\n",
    "axs[2].set_xlabel(\"x [km]\")\n",
    "axs[2].autoscale(enable=True, axis='x', tight=True)\n",
    "\n",
    "plt.show()"
   ]
  },
  {
   "cell_type": "markdown",
   "id": "developed-trustee",
   "metadata": {},
   "source": [
    "We start the inversion by assuming a velocity model in which the Gaussian anomaly is not present."
   ]
  },
  {
   "cell_type": "code",
   "execution_count": 14,
   "id": "basic-uganda",
   "metadata": {},
   "outputs": [
    {
     "data": {
      "image/png": "[encoded data removed]",
      "text/plain": [
       "<Figure size 720x432 with 1 Axes>"
      ]
     },
     "metadata": {
      "needs_background": "light"
     },
     "output_type": "display_data"
    }
   ],
   "source": [
    "vv_init = vv.clone().set(2.0)\n",
    "\n",
    "fig, ax = plt.subplots()\n",
    "ax.plot(x, vv.plot(), lw=4, label=\"True\")\n",
    "ax.plot(x, vv_init.plot(), c=\"red\", ls=\"--\", lw=4, label=\"Initial\")\n",
    "ax.set_xlabel(\"x [km]\"), ax.set_ylabel(vv.ax_info[0].l)\n",
    "ax.set_xlim(0,30), ax.set_ylim(1,2.5)\n",
    "ax.legend()\n",
    "plt.tight_layout()\n",
    "plt.show()"
   ]
  },
  {
   "cell_type": "markdown",
   "id": "vocal-composer",
   "metadata": {},
   "source": [
    "Let's compare the traveltime difference between the initially predicted and observed traveltimes for each source."
   ]
  },
  {
   "cell_type": "code",
   "execution_count": 15,
   "id": "d5459d38",
   "metadata": {},
   "outputs": [],
   "source": [
    "# Creating initial data\n",
    "Eik1D_Op.forward(False, vv_init, tt_data)"
   ]
  },
  {
   "cell_type": "code",
   "execution_count": 16,
   "id": "korean-sight",
   "metadata": {},
   "outputs": [
    {
     "data": {
      "image/png": "[encoded data removed]",
      "text/plain": [
       "<Figure size 720x432 with 3 Axes>"
      ]
     },
     "metadata": {
      "needs_background": "light"
     },
     "output_type": "display_data"
    }
   ],
   "source": [
    "fig, axs = plt.subplots(1,3, sharey=True)\n",
    "\n",
    "axs[0].scatter(RecPos*dx, tt_data_obs.plot()[0], label=\"observed\")\n",
    "axs[0].scatter(RecPos*dx, tt_data.plot()[0], c=\"r\", ls=\"--\", label=\"initial\")\n",
    "axs[0].legend()\n",
    "axs[0].set_ylabel(\"traveltime [s]\")\n",
    "axs[0].set_xlabel(\"x [km]\")\n",
    "axs[0].set_ylim([0.0, 16.0])\n",
    "axs[0].autoscale(enable=True, axis='x', tight=True)\n",
    "\n",
    "axs[1].scatter(RecPos*dx, tt_data_obs.plot()[1], label=\"observed\")\n",
    "axs[1].scatter(RecPos*dx, tt_data.plot()[1], c=\"r\", ls=\"--\", label=\"initial\")\n",
    "axs[1].set_xlabel(\"x [km]\")\n",
    "axs[1].autoscale(enable=True, axis='x', tight=True)\n",
    "\n",
    "axs[2].scatter(RecPos*dx, tt_data_obs.plot()[2], label=\"observed\")\n",
    "axs[2].scatter(RecPos*dx, tt_data.plot()[2], c=\"r\", ls=\"--\", label=\"initial\")\n",
    "axs[2].set_xlabel(\"x [km]\")\n",
    "axs[2].autoscale(enable=True, axis='x', tight=True)\n",
    "\n",
    "plt.show()"
   ]
  },
  {
   "cell_type": "markdown",
   "id": "worse-singles",
   "metadata": {},
   "source": [
    "We now solve the non-linear constrained optimization problem using the solver L-BFGS-B."
   ]
  },
  {
   "cell_type": "code",
   "execution_count": 17,
   "id": "fundamental-chocolate",
   "metadata": {},
   "outputs": [],
   "source": [
    "minBound = o.VectorNumpy((nx,)).set(1.)\n",
    "maxBound = o.VectorNumpy((nx,)).set(3.)\n",
    "\n",
    "Stop  = o.BasicStopper(niter=250)\n",
    "BFGSBsolver = o.LBFGSB(Stop, m_steps=30)\n",
    "\n",
    "filt = o.VectorNumpy((15,)).set(1.)\n",
    "SmoothOp = o.ConvND(vv_init, filt)\n",
    "\n",
    "mask = o.VectorNumpy((nx,)).zero()\n",
    "mask[int(nx*0.25):int(nx*0.75)] = 1.0\n",
    "\n",
    "Eik1D_Inv_NlOp = o.NonlinearOperator(Eik1D_Op, Eik1D_Lin_Op*SmoothOp, Eik1D_Lin_Op.set_vel)\n",
    "\n",
    "L2_tt_prob = o.NonlinearLeastSquares(vv_init.clone(), tt_data_obs, Eik1D_Inv_NlOp,\n",
    "                                     minBound=minBound, maxBound=maxBound, grad_mask=mask)"
   ]
  },
  {
   "cell_type": "code",
   "execution_count": 18,
   "id": "stuck-supervision",
   "metadata": {
    "scrolled": true
   },
   "outputs": [
    {
     "name": "stdout",
     "output_type": "stream",
     "text": [
      "##########################################################################################\n",
      "\t\t\tL-BFGS-B SOLVER \n",
      "\n",
      "\tMaximum number of steps to estimate H^-1: 30 \n",
      "\tRestart folder: /tmp/restart_2022-04-16T17-57-51.565602/\n",
      "##########################################################################################\n",
      "\n",
      "iter = 000, obj = 9.36512e+00, rnorm = 4.33e+00, gnorm = 1.08e+02, feval = 1, geval = 1\n",
      "iter = 001, obj = 3.46916e+00, rnorm = 2.63e+00, gnorm = 6.77e+01, feval = 2, geval = 2\n",
      "iter = 002, obj = 8.95147e-01, rnorm = 1.34e+00, gnorm = 2.91e+01, feval = 3, geval = 3\n",
      "iter = 003, obj = 4.79319e-01, rnorm = 9.79e-01, gnorm = 6.28e+00, feval = 4, geval = 4\n",
      "iter = 004, obj = 4.49458e-01, rnorm = 9.48e-01, gnorm = 4.90e+00, feval = 5, geval = 5\n",
      "iter = 005, obj = 3.48906e-01, rnorm = 8.35e-01, gnorm = 4.73e+00, feval = 6, geval = 6\n",
      "iter = 006, obj = 3.13463e-01, rnorm = 7.92e-01, gnorm = 4.47e+00, feval = 7, geval = 7\n",
      "iter = 007, obj = 2.69396e-01, rnorm = 7.34e-01, gnorm = 7.38e+00, feval = 8, geval = 8\n",
      "iter = 008, obj = 2.35035e-01, rnorm = 6.86e-01, gnorm = 3.48e+00, feval = 9, geval = 9\n",
      "iter = 009, obj = 1.57293e-01, rnorm = 5.61e-01, gnorm = 1.21e+01, feval = 10, geval = 10\n",
      "iter = 010, obj = 9.05134e-02, rnorm = 4.25e-01, gnorm = 3.13e+00, feval = 11, geval = 11\n",
      "iter = 011, obj = 8.34854e-02, rnorm = 4.09e-01, gnorm = 1.90e+00, feval = 12, geval = 12\n",
      "iter = 012, obj = 6.96905e-02, rnorm = 3.73e-01, gnorm = 2.81e+00, feval = 13, geval = 13\n",
      "iter = 013, obj = 6.49096e-02, rnorm = 3.60e-01, gnorm = 1.55e+00, feval = 14, geval = 14\n",
      "iter = 014, obj = 3.84894e-02, rnorm = 2.77e-01, gnorm = 2.06e+00, feval = 15, geval = 15\n",
      "iter = 015, obj = 3.58767e-02, rnorm = 2.68e-01, gnorm = 1.01e+00, feval = 16, geval = 16\n",
      "iter = 016, obj = 2.93252e-02, rnorm = 2.42e-01, gnorm = 2.08e+00, feval = 17, geval = 17\n",
      "iter = 017, obj = 2.72982e-02, rnorm = 2.34e-01, gnorm = 9.48e-01, feval = 18, geval = 18\n",
      "iter = 018, obj = 2.61309e-02, rnorm = 2.29e-01, gnorm = 9.52e-01, feval = 19, geval = 19\n",
      "iter = 019, obj = 2.51324e-02, rnorm = 2.24e-01, gnorm = 8.30e-01, feval = 20, geval = 20\n",
      "iter = 020, obj = 2.39866e-02, rnorm = 2.19e-01, gnorm = 9.28e-01, feval = 21, geval = 21\n",
      "iter = 021, obj = 2.31599e-02, rnorm = 2.15e-01, gnorm = 7.39e-01, feval = 22, geval = 22\n",
      "iter = 022, obj = 2.18463e-02, rnorm = 2.09e-01, gnorm = 1.02e+00, feval = 23, geval = 23\n",
      "iter = 023, obj = 2.11351e-02, rnorm = 2.06e-01, gnorm = 6.31e-01, feval = 24, geval = 24\n",
      "iter = 024, obj = 1.50414e-02, rnorm = 1.73e-01, gnorm = 2.24e+00, feval = 25, geval = 25\n",
      "iter = 025, obj = 1.30047e-02, rnorm = 1.61e-01, gnorm = 8.11e-01, feval = 26, geval = 26\n",
      "iter = 026, obj = 1.26760e-02, rnorm = 1.59e-01, gnorm = 4.43e-01, feval = 27, geval = 27\n",
      "iter = 027, obj = 1.20663e-02, rnorm = 1.55e-01, gnorm = 6.83e-01, feval = 28, geval = 28\n",
      "iter = 028, obj = 1.18646e-02, rnorm = 1.54e-01, gnorm = 4.60e-01, feval = 29, geval = 29\n",
      "iter = 029, obj = 1.15546e-02, rnorm = 1.52e-01, gnorm = 4.72e-01, feval = 30, geval = 30\n",
      "iter = 030, obj = 1.12446e-02, rnorm = 1.50e-01, gnorm = 4.91e-01, feval = 31, geval = 31\n",
      "iter = 031, obj = 1.10291e-02, rnorm = 1.49e-01, gnorm = 3.86e-01, feval = 32, geval = 32\n",
      "iter = 032, obj = 9.36109e-03, rnorm = 1.37e-01, gnorm = 1.05e+00, feval = 33, geval = 33\n",
      "iter = 033, obj = 8.94962e-03, rnorm = 1.34e-01, gnorm = 5.61e-01, feval = 34, geval = 34\n",
      "iter = 034, obj = 8.74574e-03, rnorm = 1.32e-01, gnorm = 3.33e-01, feval = 35, geval = 35\n",
      "iter = 035, obj = 2.69162e-03, rnorm = 7.34e-02, gnorm = 5.58e-01, feval = 36, geval = 36\n",
      "iter = 036, obj = 2.54458e-03, rnorm = 7.13e-02, gnorm = 1.75e-01, feval = 37, geval = 37\n",
      "iter = 037, obj = 2.39087e-03, rnorm = 6.92e-02, gnorm = 3.71e-01, feval = 38, geval = 38\n",
      "iter = 038, obj = 2.32387e-03, rnorm = 6.82e-02, gnorm = 1.64e-01, feval = 39, geval = 39\n",
      "iter = 039, obj = 2.17590e-03, rnorm = 6.60e-02, gnorm = 3.48e-01, feval = 40, geval = 40\n",
      "iter = 040, obj = 2.11821e-03, rnorm = 6.51e-02, gnorm = 1.62e-01, feval = 41, geval = 41\n",
      "iter = 041, obj = 2.05319e-03, rnorm = 6.41e-02, gnorm = 2.65e-01, feval = 42, geval = 42\n",
      "iter = 042, obj = 2.01296e-03, rnorm = 6.35e-02, gnorm = 1.42e-01, feval = 43, geval = 43\n",
      "iter = 043, obj = 1.20156e-03, rnorm = 4.90e-02, gnorm = 1.04e-01, feval = 44, geval = 44\n",
      "iter = 044, obj = 1.12332e-03, rnorm = 4.74e-02, gnorm = 4.64e-01, feval = 45, geval = 45\n",
      "iter = 045, obj = 1.04128e-03, rnorm = 4.56e-02, gnorm = 1.84e-01, feval = 46, geval = 46\n",
      "iter = 046, obj = 1.02210e-03, rnorm = 4.52e-02, gnorm = 9.12e-02, feval = 47, geval = 47\n",
      "iter = 047, obj = 7.95189e-04, rnorm = 3.99e-02, gnorm = 3.95e-01, feval = 48, geval = 48\n",
      "iter = 048, obj = 7.35666e-04, rnorm = 3.84e-02, gnorm = 1.52e-01, feval = 49, geval = 49\n",
      "iter = 049, obj = 7.22761e-04, rnorm = 3.80e-02, gnorm = 7.29e-02, feval = 50, geval = 50\n",
      "iter = 050, obj = 5.93984e-04, rnorm = 3.45e-02, gnorm = 3.08e-01, feval = 51, geval = 51\n",
      "iter = 051, obj = 5.54523e-04, rnorm = 3.33e-02, gnorm = 8.92e-02, feval = 52, geval = 52\n",
      "iter = 052, obj = 5.47235e-04, rnorm = 3.31e-02, gnorm = 7.10e-02, feval = 53, geval = 53\n",
      "iter = 053, obj = 5.39023e-04, rnorm = 3.28e-02, gnorm = 7.90e-02, feval = 54, geval = 54\n",
      "iter = 054, obj = 5.32014e-04, rnorm = 3.26e-02, gnorm = 7.28e-02, feval = 55, geval = 55\n",
      "iter = 055, obj = 5.24552e-04, rnorm = 3.24e-02, gnorm = 8.20e-02, feval = 56, geval = 56\n",
      "iter = 056, obj = 5.17822e-04, rnorm = 3.22e-02, gnorm = 7.38e-02, feval = 57, geval = 57\n",
      "iter = 057, obj = 5.10944e-04, rnorm = 3.20e-02, gnorm = 7.81e-02, feval = 58, geval = 58\n",
      "iter = 058, obj = 5.04280e-04, rnorm = 3.18e-02, gnorm = 7.58e-02, feval = 59, geval = 59\n",
      "iter = 059, obj = 4.97925e-04, rnorm = 3.16e-02, gnorm = 7.25e-02, feval = 60, geval = 60\n",
      "iter = 060, obj = 4.90998e-04, rnorm = 3.13e-02, gnorm = 8.04e-02, feval = 61, geval = 61\n",
      "iter = 061, obj = 4.85033e-04, rnorm = 3.11e-02, gnorm = 6.60e-02, feval = 62, geval = 62\n",
      "iter = 062, obj = 4.76863e-04, rnorm = 3.09e-02, gnorm = 9.16e-02, feval = 63, geval = 63\n",
      "iter = 063, obj = 4.70787e-04, rnorm = 3.07e-02, gnorm = 5.91e-02, feval = 64, geval = 64\n",
      "iter = 064, obj = 4.56495e-04, rnorm = 3.02e-02, gnorm = 1.26e-01, feval = 65, geval = 65\n",
      "iter = 065, obj = 4.47961e-04, rnorm = 2.99e-02, gnorm = 5.31e-02, feval = 66, geval = 66\n",
      "iter = 066, obj = 2.24454e-04, rnorm = 2.12e-02, gnorm = 7.96e-02, feval = 67, geval = 67\n",
      "iter = 067, obj = 2.21025e-04, rnorm = 2.10e-02, gnorm = 3.67e-02, feval = 68, geval = 68\n",
      "iter = 068, obj = 2.16879e-04, rnorm = 2.08e-02, gnorm = 6.98e-02, feval = 69, geval = 69\n",
      "iter = 069, obj = 2.14249e-04, rnorm = 2.07e-02, gnorm = 3.32e-02, feval = 70, geval = 70\n",
      "iter = 070, obj = 1.35839e-04, rnorm = 1.65e-02, gnorm = 9.00e-02, feval = 71, geval = 71\n",
      "iter = 071, obj = 1.32278e-04, rnorm = 1.63e-02, gnorm = 3.08e-02, feval = 72, geval = 72\n",
      "iter = 072, obj = 1.30887e-04, rnorm = 1.62e-02, gnorm = 3.54e-02, feval = 73, geval = 73\n",
      "iter = 073, obj = 1.29728e-04, rnorm = 1.61e-02, gnorm = 2.80e-02, feval = 74, geval = 74\n",
      "iter = 074, obj = 1.27855e-04, rnorm = 1.60e-02, gnorm = 4.47e-02, feval = 75, geval = 75\n",
      "iter = 075, obj = 1.26628e-04, rnorm = 1.59e-02, gnorm = 2.48e-02, feval = 76, geval = 76\n",
      "iter = 076, obj = 1.07092e-04, rnorm = 1.46e-02, gnorm = 1.71e-01, feval = 77, geval = 77\n",
      "iter = 077, obj = 9.60299e-05, rnorm = 1.39e-02, gnorm = 5.75e-02, feval = 78, geval = 78\n",
      "iter = 078, obj = 9.44623e-05, rnorm = 1.37e-02, gnorm = 2.18e-02, feval = 79, geval = 79\n",
      "iter = 079, obj = 9.04292e-05, rnorm = 1.34e-02, gnorm = 5.71e-02, feval = 80, geval = 80\n",
      "iter = 080, obj = 8.88579e-05, rnorm = 1.33e-02, gnorm = 2.13e-02, feval = 81, geval = 81\n",
      "iter = 081, obj = 8.63267e-05, rnorm = 1.31e-02, gnorm = 5.62e-02, feval = 82, geval = 82\n",
      "iter = 082, obj = 8.48660e-05, rnorm = 1.30e-02, gnorm = 2.13e-02, feval = 83, geval = 83\n",
      "iter = 083, obj = 8.28918e-05, rnorm = 1.29e-02, gnorm = 4.15e-02, feval = 84, geval = 84\n",
      "iter = 084, obj = 8.19287e-05, rnorm = 1.28e-02, gnorm = 1.95e-02, feval = 85, geval = 85\n",
      "iter = 085, obj = 2.89470e-05, rnorm = 7.61e-03, gnorm = 1.12e-01, feval = 86, geval = 86\n",
      "iter = 086, obj = 2.39123e-05, rnorm = 6.92e-03, gnorm = 2.46e-02, feval = 87, geval = 87\n",
      "iter = 087, obj = 2.36335e-05, rnorm = 6.88e-03, gnorm = 1.09e-02, feval = 88, geval = 88\n",
      "iter = 088, obj = 2.33247e-05, rnorm = 6.83e-03, gnorm = 1.49e-02, feval = 89, geval = 89\n",
      "iter = 089, obj = 2.31624e-05, rnorm = 6.81e-03, gnorm = 9.84e-03, feval = 90, geval = 90\n",
      "iter = 090, obj = 2.14465e-05, rnorm = 6.55e-03, gnorm = 2.57e-02, feval = 91, geval = 91\n",
      "iter = 091, obj = 2.11691e-05, rnorm = 6.51e-03, gnorm = 1.21e-02, feval = 92, geval = 92\n"
     ]
    },
    {
     "name": "stdout",
     "output_type": "stream",
     "text": [
      "iter = 092, obj = 2.10148e-05, rnorm = 6.48e-03, gnorm = 1.04e-02, feval = 93, geval = 93\n",
      "iter = 093, obj = 2.07796e-05, rnorm = 6.45e-03, gnorm = 1.29e-02, feval = 94, geval = 94\n",
      "iter = 094, obj = 2.06366e-05, rnorm = 6.42e-03, gnorm = 9.56e-03, feval = 95, geval = 95\n",
      "iter = 095, obj = 2.01559e-05, rnorm = 6.35e-03, gnorm = 1.80e-02, feval = 96, geval = 96\n",
      "iter = 096, obj = 1.99841e-05, rnorm = 6.32e-03, gnorm = 9.21e-03, feval = 97, geval = 97\n",
      "iter = 097, obj = 1.93617e-05, rnorm = 6.22e-03, gnorm = 2.58e-02, feval = 98, geval = 98\n",
      "iter = 098, obj = 1.90736e-05, rnorm = 6.18e-03, gnorm = 1.05e-02, feval = 99, geval = 99\n",
      "iter = 099, obj = 1.89059e-05, rnorm = 6.15e-03, gnorm = 1.11e-02, feval = 100, geval = 100\n",
      "iter = 100, obj = 1.87660e-05, rnorm = 6.13e-03, gnorm = 1.00e-02, feval = 101, geval = 101\n",
      "iter = 101, obj = 1.85766e-05, rnorm = 6.10e-03, gnorm = 1.21e-02, feval = 102, geval = 102\n",
      "iter = 102, obj = 1.84442e-05, rnorm = 6.07e-03, gnorm = 9.33e-03, feval = 103, geval = 103\n",
      "iter = 103, obj = 1.81708e-05, rnorm = 6.03e-03, gnorm = 1.48e-02, feval = 104, geval = 104\n",
      "iter = 104, obj = 1.80305e-05, rnorm = 6.01e-03, gnorm = 8.45e-03, feval = 105, geval = 105\n",
      "iter = 105, obj = 1.42885e-05, rnorm = 5.35e-03, gnorm = 3.56e-02, feval = 106, geval = 106\n",
      "iter = 106, obj = 1.38012e-05, rnorm = 5.25e-03, gnorm = 1.39e-02, feval = 107, geval = 107\n",
      "iter = 107, obj = 1.36881e-05, rnorm = 5.23e-03, gnorm = 7.15e-03, feval = 108, geval = 108\n",
      "iter = 108, obj = 8.26813e-06, rnorm = 4.07e-03, gnorm = 5.44e-02, feval = 109, geval = 109\n",
      "iter = 109, obj = 7.19430e-06, rnorm = 3.79e-03, gnorm = 2.05e-02, feval = 110, geval = 110\n",
      "iter = 110, obj = 7.03165e-06, rnorm = 3.75e-03, gnorm = 7.98e-03, feval = 111, geval = 111\n",
      "iter = 111, obj = 6.99155e-06, rnorm = 3.74e-03, gnorm = 4.71e-03, feval = 112, geval = 112\n",
      "iter = 112, obj = 5.42419e-06, rnorm = 3.29e-03, gnorm = 4.14e-03, feval = 113, geval = 113\n",
      "iter = 113, obj = 5.24869e-06, rnorm = 3.24e-03, gnorm = 1.71e-02, feval = 114, geval = 114\n",
      "iter = 114, obj = 5.14734e-06, rnorm = 3.21e-03, gnorm = 8.29e-03, feval = 115, geval = 115\n",
      "iter = 115, obj = 5.11655e-06, rnorm = 3.20e-03, gnorm = 4.56e-03, feval = 116, geval = 116\n",
      "iter = 116, obj = 5.08050e-06, rnorm = 3.19e-03, gnorm = 4.79e-03, feval = 117, geval = 117\n",
      "iter = 117, obj = 5.05167e-06, rnorm = 3.18e-03, gnorm = 4.39e-03, feval = 118, geval = 118\n",
      "iter = 118, obj = 5.01387e-06, rnorm = 3.17e-03, gnorm = 4.88e-03, feval = 119, geval = 119\n",
      "iter = 119, obj = 4.98687e-06, rnorm = 3.16e-03, gnorm = 4.21e-03, feval = 120, geval = 120\n",
      "iter = 120, obj = 4.94014e-06, rnorm = 3.14e-03, gnorm = 5.49e-03, feval = 121, geval = 121\n",
      "iter = 121, obj = 4.91579e-06, rnorm = 3.14e-03, gnorm = 3.83e-03, feval = 122, geval = 122\n",
      "iter = 122, obj = 4.66671e-06, rnorm = 3.06e-03, gnorm = 1.14e-02, feval = 123, geval = 123\n",
      "iter = 123, obj = 4.61425e-06, rnorm = 3.04e-03, gnorm = 5.18e-03, feval = 124, geval = 124\n",
      "iter = 124, obj = 4.59176e-06, rnorm = 3.03e-03, gnorm = 3.69e-03, feval = 125, geval = 125\n",
      "iter = 125, obj = 4.43387e-06, rnorm = 2.98e-03, gnorm = 9.41e-03, feval = 126, geval = 126\n",
      "iter = 126, obj = 4.39544e-06, rnorm = 2.96e-03, gnorm = 4.42e-03, feval = 127, geval = 127\n",
      "iter = 127, obj = 4.37203e-06, rnorm = 2.96e-03, gnorm = 3.94e-03, feval = 128, geval = 128\n",
      "iter = 128, obj = 4.33735e-06, rnorm = 2.95e-03, gnorm = 4.70e-03, feval = 129, geval = 129\n",
      "iter = 129, obj = 4.31611e-06, rnorm = 2.94e-03, gnorm = 3.65e-03, feval = 130, geval = 130\n",
      "iter = 130, obj = 4.24897e-06, rnorm = 2.92e-03, gnorm = 6.39e-03, feval = 131, geval = 131\n",
      "iter = 131, obj = 4.22591e-06, rnorm = 2.91e-03, gnorm = 3.49e-03, feval = 132, geval = 132\n",
      "iter = 132, obj = 4.11130e-06, rnorm = 2.87e-03, gnorm = 1.01e-02, feval = 133, geval = 133\n",
      "iter = 133, obj = 4.06954e-06, rnorm = 2.85e-03, gnorm = 4.57e-03, feval = 134, geval = 134\n",
      "iter = 134, obj = 4.05019e-06, rnorm = 2.85e-03, gnorm = 3.44e-03, feval = 135, geval = 135\n",
      "iter = 135, obj = 3.97511e-06, rnorm = 2.82e-03, gnorm = 7.89e-03, feval = 136, geval = 136\n",
      "iter = 136, obj = 3.94678e-06, rnorm = 2.81e-03, gnorm = 3.76e-03, feval = 137, geval = 137\n",
      "iter = 137, obj = 3.91872e-06, rnorm = 2.80e-03, gnorm = 4.26e-03, feval = 138, geval = 138\n",
      "iter = 138, obj = 3.89930e-06, rnorm = 2.79e-03, gnorm = 3.54e-03, feval = 139, geval = 139\n",
      "iter = 139, obj = 3.85650e-06, rnorm = 2.78e-03, gnorm = 5.60e-03, feval = 140, geval = 140\n",
      "iter = 140, obj = 3.83599e-06, rnorm = 2.77e-03, gnorm = 3.21e-03, feval = 141, geval = 141\n",
      "iter = 141, obj = 2.46219e-06, rnorm = 2.22e-03, gnorm = 8.40e-03, feval = 142, geval = 142\n",
      "iter = 142, obj = 2.43064e-06, rnorm = 2.20e-03, gnorm = 2.78e-03, feval = 143, geval = 143\n",
      "iter = 143, obj = 2.41635e-06, rnorm = 2.20e-03, gnorm = 3.54e-03, feval = 144, geval = 144\n",
      "iter = 144, obj = 2.40590e-06, rnorm = 2.19e-03, gnorm = 2.44e-03, feval = 145, geval = 145\n",
      "iter = 145, obj = 2.37403e-06, rnorm = 2.18e-03, gnorm = 5.54e-03, feval = 146, geval = 146\n",
      "iter = 146, obj = 2.35890e-06, rnorm = 2.17e-03, gnorm = 2.42e-03, feval = 147, geval = 147\n",
      "iter = 147, obj = 2.32306e-06, rnorm = 2.16e-03, gnorm = 5.21e-03, feval = 148, geval = 148\n",
      "iter = 148, obj = 2.30843e-06, rnorm = 2.15e-03, gnorm = 2.28e-03, feval = 149, geval = 149\n",
      "iter = 149, obj = 2.20308e-06, rnorm = 2.10e-03, gnorm = 1.03e-02, feval = 150, geval = 150\n",
      "iter = 150, obj = 2.16292e-06, rnorm = 2.08e-03, gnorm = 4.05e-03, feval = 151, geval = 151\n",
      "iter = 151, obj = 2.15243e-06, rnorm = 2.07e-03, gnorm = 2.18e-03, feval = 152, geval = 152\n",
      "iter = 152, obj = 2.07460e-06, rnorm = 2.04e-03, gnorm = 8.81e-03, feval = 153, geval = 153\n",
      "iter = 153, obj = 2.04288e-06, rnorm = 2.02e-03, gnorm = 3.07e-03, feval = 154, geval = 154\n",
      "iter = 154, obj = 2.03418e-06, rnorm = 2.02e-03, gnorm = 2.30e-03, feval = 155, geval = 155\n",
      "iter = 155, obj = 2.01940e-06, rnorm = 2.01e-03, gnorm = 3.65e-03, feval = 156, geval = 156\n",
      "iter = 156, obj = 2.01037e-06, rnorm = 2.01e-03, gnorm = 2.09e-03, feval = 157, geval = 157\n",
      "iter = 157, obj = 1.95582e-06, rnorm = 1.98e-03, gnorm = 7.42e-03, feval = 158, geval = 158\n",
      "iter = 158, obj = 1.93212e-06, rnorm = 1.97e-03, gnorm = 2.49e-03, feval = 159, geval = 159\n",
      "iter = 159, obj = 1.92247e-06, rnorm = 1.96e-03, gnorm = 2.67e-03, feval = 160, geval = 160\n",
      "iter = 160, obj = 1.91422e-06, rnorm = 1.96e-03, gnorm = 2.38e-03, feval = 161, geval = 161\n",
      "iter = 161, obj = 1.90377e-06, rnorm = 1.95e-03, gnorm = 2.80e-03, feval = 162, geval = 162\n",
      "iter = 162, obj = 1.89589e-06, rnorm = 1.95e-03, gnorm = 2.24e-03, feval = 163, geval = 163\n",
      "iter = 163, obj = 1.88279e-06, rnorm = 1.94e-03, gnorm = 3.21e-03, feval = 164, geval = 164\n",
      "iter = 164, obj = 1.87489e-06, rnorm = 1.94e-03, gnorm = 2.04e-03, feval = 165, geval = 165\n",
      "iter = 165, obj = 1.84233e-06, rnorm = 1.92e-03, gnorm = 4.98e-03, feval = 166, geval = 166\n",
      "iter = 166, obj = 1.82982e-06, rnorm = 1.91e-03, gnorm = 2.00e-03, feval = 167, geval = 167\n",
      "iter = 167, obj = 1.80071e-06, rnorm = 1.90e-03, gnorm = 5.50e-03, feval = 168, geval = 168\n",
      "iter = 168, obj = 1.78642e-06, rnorm = 1.89e-03, gnorm = 2.01e-03, feval = 169, geval = 169\n",
      "iter = 169, obj = 1.76345e-06, rnorm = 1.88e-03, gnorm = 4.29e-03, feval = 170, geval = 170\n",
      "iter = 170, obj = 1.75342e-06, rnorm = 1.87e-03, gnorm = 1.88e-03, feval = 171, geval = 171\n",
      "iter = 171, obj = 1.66552e-06, rnorm = 1.83e-03, gnorm = 9.30e-03, feval = 172, geval = 172\n",
      "iter = 172, obj = 1.62904e-06, rnorm = 1.81e-03, gnorm = 2.35e-03, feval = 173, geval = 173\n",
      "iter = 173, obj = 1.62167e-06, rnorm = 1.80e-03, gnorm = 2.45e-03, feval = 174, geval = 174\n",
      "iter = 174, obj = 1.61487e-06, rnorm = 1.80e-03, gnorm = 2.27e-03, feval = 175, geval = 175\n",
      "iter = 175, obj = 1.60730e-06, rnorm = 1.79e-03, gnorm = 2.51e-03, feval = 176, geval = 176\n",
      "iter = 176, obj = 1.60065e-06, rnorm = 1.79e-03, gnorm = 2.20e-03, feval = 177, geval = 177\n",
      "iter = 177, obj = 1.59276e-06, rnorm = 1.78e-03, gnorm = 2.61e-03, feval = 178, geval = 178\n",
      "iter = 178, obj = 1.58622e-06, rnorm = 1.78e-03, gnorm = 2.10e-03, feval = 179, geval = 179\n",
      "iter = 179, obj = 1.57763e-06, rnorm = 1.78e-03, gnorm = 2.76e-03, feval = 180, geval = 180\n",
      "iter = 180, obj = 1.57108e-06, rnorm = 1.77e-03, gnorm = 2.02e-03, feval = 181, geval = 181\n",
      "iter = 181, obj = 1.56131e-06, rnorm = 1.77e-03, gnorm = 3.04e-03, feval = 182, geval = 182\n",
      "iter = 182, obj = 1.55447e-06, rnorm = 1.76e-03, gnorm = 1.90e-03, feval = 183, geval = 183\n",
      "iter = 183, obj = 1.54122e-06, rnorm = 1.76e-03, gnorm = 3.63e-03, feval = 184, geval = 184\n",
      "iter = 184, obj = 1.53313e-06, rnorm = 1.75e-03, gnorm = 1.77e-03, feval = 185, geval = 185\n"
     ]
    },
    {
     "name": "stdout",
     "output_type": "stream",
     "text": [
      "iter = 185, obj = 1.50424e-06, rnorm = 1.73e-03, gnorm = 5.22e-03, feval = 186, geval = 186\n",
      "iter = 186, obj = 1.49079e-06, rnorm = 1.73e-03, gnorm = 1.67e-03, feval = 187, geval = 187\n",
      "iter = 187, obj = 1.35564e-06, rnorm = 1.65e-03, gnorm = 1.21e-02, feval = 188, geval = 188\n",
      "iter = 188, obj = 1.29794e-06, rnorm = 1.61e-03, gnorm = 3.36e-03, feval = 189, geval = 189\n",
      "iter = 189, obj = 1.29137e-06, rnorm = 1.61e-03, gnorm = 1.56e-03, feval = 190, geval = 190\n",
      "iter = 190, obj = 1.27231e-06, rnorm = 1.60e-03, gnorm = 4.60e-03, feval = 191, geval = 191\n",
      "iter = 191, obj = 1.26212e-06, rnorm = 1.59e-03, gnorm = 1.49e-03, feval = 192, geval = 192\n",
      "iter = 192, obj = 1.14204e-06, rnorm = 1.51e-03, gnorm = 7.50e-03, feval = 193, geval = 193\n",
      "iter = 193, obj = 1.11934e-06, rnorm = 1.50e-03, gnorm = 2.43e-03, feval = 194, geval = 194\n",
      "iter = 194, obj = 1.11501e-06, rnorm = 1.49e-03, gnorm = 1.47e-03, feval = 195, geval = 195\n",
      "iter = 195, obj = 1.10578e-06, rnorm = 1.49e-03, gnorm = 2.89e-03, feval = 196, geval = 196\n",
      "iter = 196, obj = 1.10074e-06, rnorm = 1.48e-03, gnorm = 1.36e-03, feval = 197, geval = 197\n",
      "iter = 197, obj = 1.06538e-06, rnorm = 1.46e-03, gnorm = 5.05e-03, feval = 198, geval = 198\n",
      "iter = 198, obj = 1.05384e-06, rnorm = 1.45e-03, gnorm = 1.46e-03, feval = 199, geval = 199\n",
      "iter = 199, obj = 1.04776e-06, rnorm = 1.45e-03, gnorm = 2.48e-03, feval = 200, geval = 200\n",
      "iter = 200, obj = 1.04371e-06, rnorm = 1.44e-03, gnorm = 1.35e-03, feval = 201, geval = 201\n",
      "iter = 201, obj = 1.03156e-06, rnorm = 1.44e-03, gnorm = 3.67e-03, feval = 202, geval = 202\n",
      "iter = 202, obj = 1.02484e-06, rnorm = 1.43e-03, gnorm = 1.27e-03, feval = 203, geval = 203\n",
      "iter = 203, obj = 7.96414e-07, rnorm = 1.26e-03, gnorm = 4.99e-03, feval = 204, geval = 204\n",
      "iter = 204, obj = 7.85908e-07, rnorm = 1.25e-03, gnorm = 1.51e-03, feval = 205, geval = 205\n",
      "iter = 205, obj = 7.83563e-07, rnorm = 1.25e-03, gnorm = 1.22e-03, feval = 206, geval = 206\n",
      "iter = 206, obj = 7.80288e-07, rnorm = 1.25e-03, gnorm = 1.56e-03, feval = 207, geval = 207\n",
      "iter = 207, obj = 7.77976e-07, rnorm = 1.25e-03, gnorm = 1.18e-03, feval = 208, geval = 208\n",
      "iter = 208, obj = 7.74228e-07, rnorm = 1.24e-03, gnorm = 1.69e-03, feval = 209, geval = 209\n",
      "iter = 209, obj = 7.71896e-07, rnorm = 1.24e-03, gnorm = 1.11e-03, feval = 210, geval = 210\n",
      "iter = 210, obj = 7.66485e-07, rnorm = 1.24e-03, gnorm = 2.04e-03, feval = 211, geval = 211\n",
      "iter = 211, obj = 7.63806e-07, rnorm = 1.24e-03, gnorm = 1.03e-03, feval = 212, geval = 212\n",
      "iter = 212, obj = 7.40126e-07, rnorm = 1.22e-03, gnorm = 3.84e-03, feval = 213, geval = 213\n",
      "iter = 213, obj = 7.33497e-07, rnorm = 1.21e-03, gnorm = 1.15e-03, feval = 214, geval = 214\n",
      "iter = 214, obj = 7.30452e-07, rnorm = 1.21e-03, gnorm = 1.62e-03, feval = 215, geval = 215\n",
      "iter = 215, obj = 7.28370e-07, rnorm = 1.21e-03, gnorm = 1.04e-03, feval = 216, geval = 216\n",
      "iter = 216, obj = 7.22195e-07, rnorm = 1.20e-03, gnorm = 2.47e-03, feval = 217, geval = 217\n",
      "iter = 217, obj = 7.19041e-07, rnorm = 1.20e-03, gnorm = 9.86e-04, feval = 218, geval = 218\n",
      "iter = 218, obj = 6.93278e-07, rnorm = 1.18e-03, gnorm = 4.14e-03, feval = 219, geval = 219\n",
      "iter = 219, obj = 6.85822e-07, rnorm = 1.17e-03, gnorm = 1.22e-03, feval = 220, geval = 220\n",
      "iter = 220, obj = 6.83723e-07, rnorm = 1.17e-03, gnorm = 1.25e-03, feval = 221, geval = 221\n",
      "iter = 221, obj = 6.81686e-07, rnorm = 1.17e-03, gnorm = 1.18e-03, feval = 222, geval = 222\n",
      "iter = 222, obj = 6.79523e-07, rnorm = 1.17e-03, gnorm = 1.28e-03, feval = 223, geval = 223\n",
      "iter = 223, obj = 6.77545e-07, rnorm = 1.16e-03, gnorm = 1.16e-03, feval = 224, geval = 224\n",
      "iter = 224, obj = 6.75318e-07, rnorm = 1.16e-03, gnorm = 1.33e-03, feval = 225, geval = 225\n",
      "iter = 225, obj = 6.73409e-07, rnorm = 1.16e-03, gnorm = 1.11e-03, feval = 226, geval = 226\n",
      "iter = 226, obj = 6.70984e-07, rnorm = 1.16e-03, gnorm = 1.42e-03, feval = 227, geval = 227\n",
      "iter = 227, obj = 6.69120e-07, rnorm = 1.16e-03, gnorm = 1.05e-03, feval = 228, geval = 228\n",
      "iter = 228, obj = 6.66148e-07, rnorm = 1.15e-03, gnorm = 1.64e-03, feval = 229, geval = 229\n",
      "iter = 229, obj = 6.64193e-07, rnorm = 1.15e-03, gnorm = 9.70e-04, feval = 230, geval = 230\n",
      "iter = 230, obj = 6.58922e-07, rnorm = 1.15e-03, gnorm = 2.29e-03, feval = 231, geval = 231\n",
      "iter = 231, obj = 6.56121e-07, rnorm = 1.15e-03, gnorm = 9.06e-04, feval = 232, geval = 232\n",
      "iter = 232, obj = 4.82825e-07, rnorm = 9.83e-04, gnorm = 4.26e-03, feval = 233, geval = 233\n",
      "iter = 233, obj = 4.75297e-07, rnorm = 9.75e-04, gnorm = 1.07e-03, feval = 234, geval = 234\n",
      "iter = 234, obj = 4.74314e-07, rnorm = 9.74e-04, gnorm = 7.15e-04, feval = 235, geval = 235\n",
      "iter = 235, obj = 4.69592e-07, rnorm = 9.69e-04, gnorm = 1.75e-03, feval = 236, geval = 236\n",
      "iter = 236, obj = 4.68184e-07, rnorm = 9.68e-04, gnorm = 8.14e-04, feval = 237, geval = 237\n",
      "iter = 237, obj = 4.66829e-07, rnorm = 9.66e-04, gnorm = 9.22e-04, feval = 238, geval = 238\n",
      "iter = 238, obj = 4.65840e-07, rnorm = 9.65e-04, gnorm = 7.55e-04, feval = 239, geval = 239\n",
      "iter = 239, obj = 4.63903e-07, rnorm = 9.63e-04, gnorm = 1.09e-03, feval = 240, geval = 240\n",
      "iter = 240, obj = 4.62967e-07, rnorm = 9.62e-04, gnorm = 6.87e-04, feval = 241, geval = 241\n",
      "iter = 241, obj = 4.47508e-07, rnorm = 9.46e-04, gnorm = 2.43e-03, feval = 242, geval = 242\n",
      "iter = 242, obj = 4.45182e-07, rnorm = 9.44e-04, gnorm = 1.09e-03, feval = 243, geval = 243\n",
      "iter = 243, obj = 4.44271e-07, rnorm = 9.43e-04, gnorm = 6.66e-04, feval = 244, geval = 244\n",
      "iter = 244, obj = 4.31363e-07, rnorm = 9.29e-04, gnorm = 2.51e-03, feval = 245, geval = 245\n",
      "iter = 245, obj = 4.28809e-07, rnorm = 9.26e-04, gnorm = 1.01e-03, feval = 246, geval = 246\n",
      "iter = 246, obj = 4.27964e-07, rnorm = 9.25e-04, gnorm = 6.51e-04, feval = 247, geval = 247\n",
      "iter = 247, obj = 4.20649e-07, rnorm = 9.17e-04, gnorm = 2.03e-03, feval = 248, geval = 248\n",
      "iter = 248, obj = 4.18830e-07, rnorm = 9.15e-04, gnorm = 8.09e-04, feval = 249, geval = 249\n",
      "iter = 249, obj = 4.17932e-07, rnorm = 9.14e-04, gnorm = 7.35e-04, feval = 250, geval = 250\n",
      "iter = 250, obj = 4.16776e-07, rnorm = 9.13e-04, gnorm = 8.42e-04, feval = 251, geval = 251\n",
      "Terminate: maximum number of iterations reached\n",
      "\n",
      "##########################################################################################\n",
      "\t\t\tL-BFGS-B SOLVER end\n",
      "##########################################################################################\n",
      "\n"
     ]
    }
   ],
   "source": [
    "BFGSBsolver.run(L2_tt_prob, verbose=True)"
   ]
  },
  {
   "cell_type": "markdown",
   "id": "turned-place",
   "metadata": {},
   "source": [
    "Let's see if the inversion was able to retrieve the Gaussian anomaly."
   ]
  },
  {
   "cell_type": "code",
   "execution_count": 19,
   "id": "adult-veteran",
   "metadata": {},
   "outputs": [
    {
     "data": {
      "image/png": "[encoded data removed]",
      "text/plain": [
       "<Figure size 720x432 with 1 Axes>"
      ]
     },
     "metadata": {
      "needs_background": "light"
     },
     "output_type": "display_data"
    }
   ],
   "source": [
    "fig, ax = plt.subplots()\n",
    "ax.plot(x, vv.plot(), lw=4, label=\"True\")\n",
    "ax.plot(x, vv_init.plot(), c=\"red\", ls=\"--\", lw=4, label=\"Initial\")\n",
    "ax.plot(x, L2_tt_prob.model.plot(), c=\"black\", ls=\":\", lw=4, label=\"Inverted\")\n",
    "ax.set_xlabel(\"x [km]\"), ax.set_ylabel(vv.ax_info[0].l)\n",
    "ax.set_xlim(0,30), ax.set_ylim(1,2.5)\n",
    "ax.legend()\n",
    "plt.tight_layout()\n",
    "plt.show()"
   ]
  },
  {
   "cell_type": "code",
   "execution_count": null,
   "id": "11350c9f",
   "metadata": {},
   "outputs": [],
   "source": []
  }
 ],
 "metadata": {
  "kernelspec": {
   "display_name": "Python 3 (ipykernel)",
   "language": "python",
   "name": "python3"
  },
  "language_info": {
   "codemirror_mode": {
    "name": "ipython",
    "version": 3
   },
   "file_extension": ".py",
   "mimetype": "text/x-python",
   "name": "python",
   "nbconvert_exporter": "python",
   "pygments_lexer": "ipython3",
   "version": "3.8.12"
  }
 },
 "nbformat": 4,
 "nbformat_minor": 5
}