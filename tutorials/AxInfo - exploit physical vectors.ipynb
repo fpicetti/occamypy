{
 "cells": [
  {
   "cell_type": "markdown",
   "id": "56a49fb5",
   "metadata": {},
   "source": [
    "# Using the `AxInfo` to embed physical information\n",
    "\n",
    "@Author: Francesco Picetti - picettifrancesco@gmail.com\n",
    "\n",
    "In this notebook, we show how to use the [`AxInfo`](https://github.com/fpicetti/occamypy/blob/master/occamypy/vector/axis_info.py) class to embed useful information about vectors' axes.\n",
    "\n",
    "Inherited by SEPLib vectors, basically we want to associate to a vector a list containing a `NamedTuple` for each vector dimension.\n",
    "\n",
    "This NamedTuple has the following attributes:\n",
    "* `n`: number of samples of that axis\n",
    "* `o`: origin value of the axis (i.e., the value of the first sample) [dafu\n",
    "* `d`: sampling step of the axis (.e.,\n",
    "* `l`: label to describe the axis [default: `undefined`]\n",
    "\n"
   ]
  },
  {
   "cell_type": "code",
   "execution_count": 1,
   "id": "e786c6af",
   "metadata": {},
   "outputs": [
    {
     "name": "stdout",
     "output_type": "stream",
     "text": [
      "WARNING! DATAPATH not found. The folder /tmp will be used to write binary files\n"
     ]
    },
    {
     "name": "stderr",
     "output_type": "stream",
     "text": [
      "/nas/home/fpicetti/miniconda3/envs/occd/lib/python3.10/site-packages/dask_jobqueue/core.py:20: FutureWarning: tmpfile is deprecated and will be removed in a future release. Please use dask.utils.tmpfile instead.\n",
      "  from distributed.utils import tmpfile\n"
     ]
    }
   ],
   "source": [
    "import numpy as np\n",
    "import occamypy as o\n",
    "import matplotlib.pyplot as plt"
   ]
  },
  {
   "cell_type": "markdown",
   "id": "67d2b461",
   "metadata": {},
   "source": [
    "## 1D case"
   ]
  },
  {
   "cell_type": "markdown",
   "id": "3eba02c8",
   "metadata": {},
   "source": [
    "Let's start with a simple 1D vector: a Ricker wavelet"
   ]
  },
  {
   "cell_type": "code",
   "execution_count": 2,
   "id": "927f6b32",
   "metadata": {},
   "outputs": [],
   "source": [
    "ot = 0.\n",
    "dt = 0.002  # fs = 500Hz\n",
    "wav = o.VectorNumpy(np.load(\"./data/ricker20.npy\"))"
   ]
  },
  {
   "cell_type": "markdown",
   "id": "33f126b4",
   "metadata": {},
   "source": [
    "Every Vector object has a `ax_info` attribute that is a list"
   ]
  },
  {
   "cell_type": "code",
   "execution_count": 3,
   "id": "904fd0a4",
   "metadata": {},
   "outputs": [
    {
     "data": {
      "text/plain": [
       "[]"
      ]
     },
     "execution_count": 3,
     "metadata": {},
     "output_type": "execute_result"
    }
   ],
   "source": [
    "wav.ax_info"
   ]
  },
  {
   "cell_type": "markdown",
   "id": "0e2ceaee",
   "metadata": {},
   "source": [
    "We can fill it with the `Vector.init_ax_info()` method, using the default values"
   ]
  },
  {
   "cell_type": "code",
   "execution_count": 4,
   "id": "87b9edc6",
   "metadata": {},
   "outputs": [],
   "source": [
    "wav.init_ax_info()"
   ]
  },
  {
   "cell_type": "code",
   "execution_count": 5,
   "id": "a5da8f41",
   "metadata": {},
   "outputs": [
    {
     "data": {
      "text/plain": [
       "[AxInfo(n=51, o=0.0, d=1.0, l='undefined')]"
      ]
     },
     "execution_count": 5,
     "metadata": {},
     "output_type": "execute_result"
    }
   ],
   "source": [
    "wav.ax_info"
   ]
  },
  {
   "cell_type": "markdown",
   "id": "091f3b4b",
   "metadata": {},
   "source": [
    "Since we know that this axis is a time axis, we can incorporate such information"
   ]
  },
  {
   "cell_type": "code",
   "execution_count": 6,
   "id": "80f038a5",
   "metadata": {},
   "outputs": [],
   "source": [
    "wav.ax_info = [o.AxInfo(wav.size, ot, dt, \"time [s]\")]"
   ]
  },
  {
   "cell_type": "code",
   "execution_count": 7,
   "id": "0a28d995",
   "metadata": {},
   "outputs": [
    {
     "data": {
      "text/plain": [
       "[AxInfo(n=51, o=0.0, d=0.002, l='time [s]')]"
      ]
     },
     "execution_count": 7,
     "metadata": {},
     "output_type": "execute_result"
    }
   ],
   "source": [
    "wav.ax_info"
   ]
  },
  {
   "cell_type": "markdown",
   "id": "3fab9a1b",
   "metadata": {},
   "source": [
    "Now we can access such information in a easier way! Now let's plot this wavelet given that\n",
    "\n",
    "* the x axis limiters are retrieved by `AxInfo.o` (origin) and `AxInfo.last` attributes\n",
    "* the `xlabel` is set with the `AxInfo.l` attribute\n",
    "* `AxInfo` has a method `plot()` that return a plottable array of axis value"
   ]
  },
  {
   "cell_type": "code",
   "execution_count": 8,
   "id": "bde9d9a5",
   "metadata": {},
   "outputs": [
    {
     "data": {
      "image/png": "[encoded data removed]",
      "text/plain": [
       "<Figure size 432x288 with 1 Axes>"
      ]
     },
     "metadata": {
      "needs_background": "light"
     },
     "output_type": "display_data"
    }
   ],
   "source": [
    "plt.figure()\n",
    "plt.plot(wav.ax_info[0].plot(), wav.plot())\n",
    "plt.xlim(wav.ax_info[0].o, wav.ax_info[0].last)\n",
    "plt.xlabel(wav.ax_info[0].l)\n",
    "plt.title(\"Wavelet\")\n",
    "plt.tight_layout()\n",
    "plt.show()"
   ]
  },
  {
   "cell_type": "markdown",
   "id": "d164e320",
   "metadata": {},
   "source": [
    "## 2D case"
   ]
  },
  {
   "cell_type": "markdown",
   "id": "b0b3a0c6",
   "metadata": {},
   "source": [
    "Now let's move to a 2D example: a two-layer velocity model sampled at 10m, with a Gaussian anomaly"
   ]
  },
  {
   "cell_type": "code",
   "execution_count": 9,
   "id": "7aad41d4",
   "metadata": {},
   "outputs": [],
   "source": [
    "vp = o.VectorNumpy((101, 101)).zero()\n",
    "vp.ax_info = [o.AxInfo(101, 0., 10., \"z [m]\"),\n",
    "              o.AxInfo(101, 0., 10., \"x [m]\")]"
   ]
  },
  {
   "cell_type": "code",
   "execution_count": 10,
   "id": "434f90d6",
   "metadata": {},
   "outputs": [],
   "source": [
    "vp[35, 50] = 1.\n",
    "\n",
    "G = o.GaussianFilter(vp, (3, 10))\n",
    "vp = G * vp\n",
    "\n",
    "vp.scale(1e5)\n",
    "\n",
    "vp.addbias(1500.)\n",
    "\n",
    "vp[50:] = 3500."
   ]
  },
  {
   "cell_type": "markdown",
   "id": "1d4236bb",
   "metadata": {},
   "source": [
    "Again, we use the `plot()` method of the Vector to get a plottable image.\n",
    "\n",
    "Note that the `extent` parameter for `plt.imshow` can rely on the `ax_info` list!"
   ]
  },
  {
   "cell_type": "code",
   "execution_count": 11,
   "id": "75d84511",
   "metadata": {},
   "outputs": [],
   "source": [
    "extent = [vp.ax_info[1].o,     # left\n",
    "          vp.ax_info[1].last,  # right\n",
    "          vp.ax_info[0].last,  # bottom \n",
    "          vp.ax_info[0].o]     # top"
   ]
  },
  {
   "cell_type": "code",
   "execution_count": 12,
   "id": "f9add15b",
   "metadata": {},
   "outputs": [
    {
     "data": {
      "image/png": "[encoded data removed]",
      "text/plain": [
       "<Figure size 720x432 with 2 Axes>"
      ]
     },
     "metadata": {
      "needs_background": "light"
     },
     "output_type": "display_data"
    }
   ],
   "source": [
    "plt.figure(figsize=(10,6))\n",
    "plt.imshow(vp.plot(), cmap=\"jet\", aspect=\"auto\", extent=extent)\n",
    "\n",
    "plt.colorbar(label=\"[m/s]\")\n",
    "\n",
    "plt.xlabel(vp.ax_info[1].l)\n",
    "plt.ylabel(vp.ax_info[0].l)\n",
    "\n",
    "plt.title(\"Velocity model\")\n",
    "plt.tight_layout()\n",
    "plt.show()"
   ]
  },
  {
   "cell_type": "code",
   "execution_count": null,
   "id": "4e203bb6",
   "metadata": {},
   "outputs": [],
   "source": []
  }
 ],
 "metadata": {
  "kernelspec": {
   "display_name": "Python 3",
   "language": "python",
   "name": "python3"
  },
  "language_info": {
   "codemirror_mode": {
    "name": "ipython",
    "version": 3
   },
   "file_extension": ".py",
   "mimetype": "text/x-python",
   "name": "python",
   "nbconvert_exporter": "python",
   "pygments_lexer": "ipython3",
   "version": "3.10.4"
  }
 },
 "nbformat": 4,
 "nbformat_minor": 5
}
